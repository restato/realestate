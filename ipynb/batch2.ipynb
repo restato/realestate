{
 "nbformat": 4,
 "nbformat_minor": 2,
 "metadata": {
  "language_info": {
   "name": "python",
   "codemirror_mode": {
    "name": "ipython",
    "version": 3
   },
   "version": "3.7.3-final"
  },
  "orig_nbformat": 2,
  "file_extension": ".py",
  "mimetype": "text/x-python",
  "name": "python",
  "npconvert_exporter": "python",
  "pygments_lexer": "ipython3",
  "version": 3,
  "kernelspec": {
   "name": "python37364bitda77c6fcc1614c8ea88f925d6dabbd4e",
   "display_name": "Python 3.7.3 64-bit"
  }
 },
 "cells": [
  {
   "cell_type": "code",
   "execution_count": 1,
   "metadata": {},
   "outputs": [],
   "source": [
    "# encoding: utf8\n",
    "from __future__ import print_function\n",
    "import multiprocessing\n",
    "from joblib import Parallel, delayed\n",
    "\n",
    "import argparse\n",
    "import tqdm\n",
    "import os\n",
    "import glob\n",
    "import pandas as pd\n",
    "\n",
    "# trade\n",
    "# area_code,transaction_amount,year_of_construction,transaction_year,legal_dong,apt_name,transaction_month,transaction_day,dedicated_area,jibun,floor,해제사유발생일,해제여부,si,gu,sigungu,area,dedicated_area_level,amount_per_area,transaction_date,description\n",
    "# rent\n",
    "# area_code,year_of_construction,transaction_year,legal_dong,deposit,apt_name,transaction_month,monthly_rent,transaction_day,dedicated_area,jibun,floor,si,gu,sigungu,sale_type,transaction_amount,area,dedicated_area_level,amount_per_area,transaction_date,description\n",
    "COLS = {}\n",
    "COLS['apt-trade'] = ['si', 'gu', 'sigungu', 'legal_dong', 'apt_name', 'transaction_amount', 'transaction_date', 'description',\n",
    "                     'transaction_year', 'transaction_month', 'floor', 'dedicated_area', 'year_of_construction']\n",
    "COLS['apt-rent'] = ['si', 'gu', 'sigungu', 'legal_dong', 'apt_name', 'transaction_amount', 'transaction_date',\n",
    "                    'transaction_year', 'transaction_month', 'floor', 'dedicated_area', 'monthly_rent', 'deposit']\n",
    "\n",
    "\n",
    "def preprocessing(df: pd.DataFrame) -> pd.DataFrame:\n",
    "    # preprocessing\n",
    "    df['transaction_amount'] = df['transaction_amount'].astype(float)\n",
    "    # df['transaction_amount'] = df['transaction_amount'].astype(\n",
    "    # float).apply(lambda x: round(x / 10000, 2))\n",
    "    # 2016-05-26 0:00:00\n",
    "    df['transaction_date'] = pd.to_datetime(\n",
    "        df['transaction_date'], format=\"%Y-%m-%d %H:%M:%S\").dt.date\n",
    "    df['transaction_year'] = df['transaction_year'].astype(object)\n",
    "    df['transaction_month'] = df['transaction_month'].astype(object)\n",
    "    df['year_of_construction'] = df['year_of_construction'].astype(int)\n",
    "    df['floor'] = df['floor'].astype(int)\n",
    "    df['dedicated_area'] = df['dedicated_area'].astype(float)\n",
    "\n",
    "    if 'monthly_rent' in df.columns:\n",
    "        df['monthly_rent'] = df['monthly_rent'].astype(int)\n",
    "    return df\n",
    " \n",
    "\n",
    "def tempFunc(df: pd.DataFrame) -> pd.DataFrame:\n",
    "    df['mean_transaction_amount'] = df['transaction_amount'].mean()\n",
    "    return df\n",
    "\n",
    "\n",
    "def applyParallel(dfGrouped, func):\n",
    "    retLst = Parallel(n_jobs=multiprocessing.cpu_count())(\n",
    "        delayed(func)(group) for name, group in dfGrouped)\n",
    "    return pd.concat(retLst)\n",
    "\n",
    "\n",
    "def transaction_amount_year(df: pd.DataFrame) -> pd.DataFrame:\n",
    "    df = df.set_index('apt_name')\n",
    "    print(len(df))\n",
    "    frames = []\n",
    "    print(f' apt counts : {len(df.index)}')\n",
    "    apt_names = df.index[:10]\n",
    "    for apt_name in tqdm.tqdm(apt_names):\n",
    "        data = df.loc[[apt_name]]\n",
    "        # data = applyParallel(\n",
    "        # data[['transaction_amount']].groupby(data.index), tempFunc)\n",
    "        data = data[['transaction_year', 'transaction_amount']\n",
    "                    ].groupby(data.index).mean()\n",
    "        data = data.reset_index()\n",
    "        frames.append(data)\n",
    "    result_df = pd.concat(frames, axis=0)\n",
    "    return result_df"
   ]
  },
  {
   "cell_type": "markdown",
   "metadata": {},
   "source": [
    "\n",
    "# 현재 아파트별 면적/층별 거래가격"
   ]
  },
  {
   "cell_type": "code",
   "execution_count": null,
   "metadata": {},
   "outputs": [],
   "source": [
    "\n",
    "def transaction_amount_year(df: pd.DataFrame) -> pd.DataFrame:\n",
    "    df = df.set_index('apt_name')\n",
    "    print(len(df))\n",
    "    frames = []\n",
    "    print(f'apt counts : {len(df.index)}')\n",
    "    apt_names = df.index\n",
    "    # apt_names = df.index\n",
    "    for apt_name in tqdm.tqdm(apt_names):\n",
    "        data = df.loc[[apt_name]].reset_index()\n",
    "        # data = applyParallel(\n",
    "        # data[['transaction_amount']].groupby(data.index), tempFunc)\n",
    "        data = data[['apt_name','transaction_year', 'transaction_amount']\n",
    "                    ].groupby(['apt_name','transaction_year']).mean()\n",
    "        data = data.reset_index()\n",
    "        data['transaction_amount'] = data['transaction_amount'].apply(lambda x: round(x / 10000,1))\n",
    "        frames.append(data)\n",
    "        # print(data)\n",
    "    result_df = pd.concat(frames, axis=0)\n",
    "    return result_df"
   ]
  },
  {
   "cell_type": "code",
   "execution_count": 62,
   "metadata": {},
   "outputs": [],
   "source": [
    "def price_dedicatedarea_floor(df: pd.DataFrame) -> pd.DataFrame:\n",
    "    # df = df.set_index('apt_name')\n",
    "    frames = [] \n",
    "    apt_name_list = df['apt_name'].unique().tolist()\n",
    "    \n",
    "    for apt_name in tqdm.tqdm(apt_name_list):\n",
    "        data = df[df['apt_name'] == apt_name] \n",
    "        data = data[['apt_name','dedicated_area','floor','transaction_amount','transaction_date']]\n",
    "        data = data.sort_values('transaction_date', ascending=True).groupby(['floor','dedicated_area']).tail(1)     \n",
    "        data = data.reset_index()\n",
    "        frames.append(data)\n",
    "    result_df = pd.concat(frames, axis=0)\n",
    "    return result_df"
   ]
  },
  {
   "cell_type": "code",
   "execution_count": 59,
   "metadata": {},
   "outputs": [
    {
     "name": "stderr",
     "output_type": "stream",
     "text": "100%|██████████| 144/144 [00:00<00:00, 305.04it/s]\n"
    },
    {
     "data": {
      "text/html": "<div>\n<style scoped>\n    .dataframe tbody tr th:only-of-type {\n        vertical-align: middle;\n    }\n\n    .dataframe tbody tr th {\n        vertical-align: top;\n    }\n\n    .dataframe thead th {\n        text-align: right;\n    }\n</style>\n<table border=\"1\" class=\"dataframe\">\n  <thead>\n    <tr style=\"text-align: right;\">\n      <th></th>\n      <th>index</th>\n      <th>apt_name</th>\n      <th>dedicated_area</th>\n      <th>floor</th>\n      <th>transaction_amount</th>\n      <th>transaction_date</th>\n    </tr>\n  </thead>\n  <tbody>\n    <tr>\n      <th>0</th>\n      <td>0</td>\n      <td>샛별마을(라이프)</td>\n      <td>84.99</td>\n      <td>18</td>\n      <td>52500.0</td>\n      <td>2016-04-01</td>\n    </tr>\n    <tr>\n      <th>1</th>\n      <td>6</td>\n      <td>샛별마을(라이프)</td>\n      <td>126.42</td>\n      <td>16</td>\n      <td>66500.0</td>\n      <td>2016-04-13</td>\n    </tr>\n    <tr>\n      <th>0</th>\n      <td>1</td>\n      <td>장안타운(건영)</td>\n      <td>85.00</td>\n      <td>1</td>\n      <td>46000.0</td>\n      <td>2016-04-06</td>\n    </tr>\n    <tr>\n      <th>1</th>\n      <td>2</td>\n      <td>장안타운(건영)</td>\n      <td>70.68</td>\n      <td>7</td>\n      <td>40500.0</td>\n      <td>2016-04-06</td>\n    </tr>\n    <tr>\n      <th>2</th>\n      <td>11</td>\n      <td>장안타운(건영)</td>\n      <td>85.00</td>\n      <td>18</td>\n      <td>48200.0</td>\n      <td>2016-04-20</td>\n    </tr>\n    <tr>\n      <th>...</th>\n      <td>...</td>\n      <td>...</td>\n      <td>...</td>\n      <td>...</td>\n      <td>...</td>\n      <td>...</td>\n    </tr>\n    <tr>\n      <th>0</th>\n      <td>593</td>\n      <td>산운마을10단지(대광로제비앙)</td>\n      <td>83.50</td>\n      <td>15</td>\n      <td>69000.0</td>\n      <td>2016-04-09</td>\n    </tr>\n    <tr>\n      <th>1</th>\n      <td>602</td>\n      <td>산운마을10단지(대광로제비앙)</td>\n      <td>83.50</td>\n      <td>9</td>\n      <td>71000.0</td>\n      <td>2016-04-23</td>\n    </tr>\n    <tr>\n      <th>0</th>\n      <td>600</td>\n      <td>산운마을9단지(대방노블랜드)임대전환</td>\n      <td>59.93</td>\n      <td>7</td>\n      <td>57500.0</td>\n      <td>2016-04-18</td>\n    </tr>\n    <tr>\n      <th>0</th>\n      <td>601</td>\n      <td>산운마을5단지(한성필하우스)</td>\n      <td>84.81</td>\n      <td>10</td>\n      <td>64000.0</td>\n      <td>2016-04-22</td>\n    </tr>\n    <tr>\n      <th>1</th>\n      <td>605</td>\n      <td>산운마을5단지(한성필하우스)</td>\n      <td>84.63</td>\n      <td>13</td>\n      <td>64000.0</td>\n      <td>2016-04-25</td>\n    </tr>\n  </tbody>\n</table>\n<p>583 rows × 6 columns</p>\n</div>",
      "text/plain": "    index             apt_name  dedicated_area  floor  transaction_amount  \\\n0       0            샛별마을(라이프)           84.99     18             52500.0   \n1       6            샛별마을(라이프)          126.42     16             66500.0   \n0       1             장안타운(건영)           85.00      1             46000.0   \n1       2             장안타운(건영)           70.68      7             40500.0   \n2      11             장안타운(건영)           85.00     18             48200.0   \n..    ...                  ...             ...    ...                 ...   \n0     593     산운마을10단지(대광로제비앙)           83.50     15             69000.0   \n1     602     산운마을10단지(대광로제비앙)           83.50      9             71000.0   \n0     600  산운마을9단지(대방노블랜드)임대전환           59.93      7             57500.0   \n0     601      산운마을5단지(한성필하우스)           84.81     10             64000.0   \n1     605      산운마을5단지(한성필하우스)           84.63     13             64000.0   \n\n   transaction_date  \n0        2016-04-01  \n1        2016-04-13  \n0        2016-04-06  \n1        2016-04-06  \n2        2016-04-20  \n..              ...  \n0        2016-04-09  \n1        2016-04-23  \n0        2016-04-18  \n0        2016-04-22  \n1        2016-04-25  \n\n[583 rows x 6 columns]"
     },
     "execution_count": 59,
     "metadata": {},
     "output_type": "execute_result"
    }
   ],
   "source": [
    "df = pd.read_csv('../data_in/41135/201604.csv', usecols=COLS[trade_type])\n",
    "df = preprocessing(df)\n",
    "\n",
    "# apt_name_list = df['apt_name'].unique().tolist()\n",
    "# data = df[df['apt_name'] == apt_name_list[0]]\n",
    "price_dedicatedarea_floor(df)"
   ]
  },
  {
   "cell_type": "code",
   "execution_count": 28,
   "metadata": {},
   "outputs": [
    {
     "data": {
      "text/html": "<div>\n<style scoped>\n    .dataframe tbody tr th:only-of-type {\n        vertical-align: middle;\n    }\n\n    .dataframe tbody tr th {\n        vertical-align: top;\n    }\n\n    .dataframe thead th {\n        text-align: right;\n    }\n</style>\n<table border=\"1\" class=\"dataframe\">\n  <thead>\n    <tr style=\"text-align: right;\">\n      <th></th>\n      <th>apt_name</th>\n      <th>dedicated_area</th>\n      <th>floor</th>\n      <th>transaction_amount</th>\n      <th>transaction_date</th>\n    </tr>\n  </thead>\n  <tbody>\n    <tr>\n      <th>0</th>\n      <td>샛별마을(라이프)</td>\n      <td>84.99</td>\n      <td>18</td>\n      <td>52500.0</td>\n      <td>2016-04-01</td>\n    </tr>\n    <tr>\n      <th>6</th>\n      <td>샛별마을(라이프)</td>\n      <td>126.42</td>\n      <td>16</td>\n      <td>66500.0</td>\n      <td>2016-04-13</td>\n    </tr>\n  </tbody>\n</table>\n</div>",
      "text/plain": "    apt_name  dedicated_area  floor  transaction_amount transaction_date\n0  샛별마을(라이프)           84.99     18             52500.0       2016-04-01\n6  샛별마을(라이프)          126.42     16             66500.0       2016-04-13"
     },
     "execution_count": 28,
     "metadata": {},
     "output_type": "execute_result"
    }
   ],
   "source": [
    "data[['apt_name','dedicated_area','floor','transaction_amount','transaction_date']]"
   ]
  },
  {
   "cell_type": "code",
   "execution_count": 29,
   "metadata": {},
   "outputs": [
    {
     "name": "stderr",
     "output_type": "stream",
     "text": "8%|▊         | 15/182 [00:00<00:01, 147.45it/s]../data_in/41135\n['../data_in/41135/201604.csv']\n['../data_in/41135/201604.csv', '../data_in/41135/201610.csv', '../data_in/41135/201406.csv', '../data_in/41135/201412.csv', '../data_in/41135/200903.csv', '../data_in/41135/201002.csv', '../data_in/41135/201003.csv', '../data_in/41135/201201.csv', '../data_in/41135/200902.csv', '../data_in/41135/201407.csv', '../data_in/41135/201611.csv', '../data_in/41135/201605.csv', '../data_in/41135/201607.csv', '../data_in/41135/201808.csv', '../data_in/41135/201411.csv', '../data_in/41135/201405.csv', '../data_in/41135/201203.csv', '../data_in/41135/201001.csv', '../data_in/41135/201202.csv', '../data_in/41135/200901.csv', '../data_in/41135/201404.csv', '../data_in/41135/201410.csv', '../data_in/41135/201809.csv', '../data_in/41135/201606.csv', '../data_in/41135/201612.csv', '../data_in/41135/201602.csv', '../data_in/41135/200911.csv', '../data_in/41135/200905.csv', '../data_in/41135/201206.csv', '../data_in/41135/201212.csv', '../data_in/41135/201004.csv', '../data_in/41135/201010.csv', '../data_in/41135/201011.csv', '../data_in/41135/201005.csv', '../data_in/41135/201207.csv', '../data_in/41135/200904.csv', '../data_in/41135/200910.csv', '../data_in/41135/201401.csv', '../data_in/41135/201603.csv', '../data_in/41135/201601.csv', '../data_in/41135/201403.csv', '../data_in/41135/200709.csv', '../data_in/41135/200906.csv', '../data_in/41135/200912.csv', '../data_in/41135/201211.csv', '../data_in/41135/201205.csv', '../data_in/41135/201007.csv', '../data_in/41135/201006.csv', '../data_in/41135/201012.csv', '../data_in/41135/201204.csv', '../data_in/41135/201210.csv', '../data_in/41135/200907.csv', '../data_in/41135/200708.csv', '../data_in/41135/201402.csv', '../data_in/41135/201101.csv', '../data_in/41135/201303.csv', '../data_in/41135/201511.csv', '../data_in/41135/201505.csv', '../data_in/41135/201707.csv', '../data_in/41135/201908.csv', '../data_in/41135/201909.csv', '../data_in/41135/201706.csv', '../data_in/41135/201712.csv', '../data_in/41135/200801.csv', '../data_in/41135/201504.csv', '../data_in/41135/201510.csv', '../data_in/41135/201302.csv', '../data_in/41135/201102.csv', '../data_in/41135/201506.csv', '../data_in/41135/201512.csv', '../data_in/41135/200803.csv', '../data_in/41135/201704.csv', '../data_in/41135/201710.csv', '../data_in/41135/201711.csv', '../data_in/41135/201705.csv', '../data_in/41135/200802.csv', '../data_in/41135/201507.csv', '../data_in/41135/201301.csv', '../data_in/41135/201103.csv', '../data_in/41135/201107.csv', '../data_in/41135/201311.csv', '../data_in/41135/201305.csv', '../data_in/41135/201503.csv', '../data_in/41135/200609.csv', '../data_in/41135/200806.csv', '../data_in/41135/200812.csv', '../data_in/41135/201701.csv', '../data_in/41135/200807.csv', '../data_in/41135/200608.csv', '../data_in/41135/201502.csv', '../data_in/41135/201304.csv', '../data_in/41135/201310.csv', '../data_in/41135/201106.csv', '../data_in/41135/201112.csv', '../data_in/41135/201104.csv', '../data_in/41135/201110.csv', '../data_in/41135/201306.csv', '../data_in/41135/201312.csv', '../data_in/41135/202009.csv', '../data_in/41135/200811.csv', '../data_in/41135/200805.csv', '../data_in/41135/201702.csv', '../data_in/41135/201703.csv', '../data_in/41135/200804.csv', '../data_in/41135/200810.csv', '../data_in/41135/201501.csv', '../data_in/41135/202008.csv', '../data_in/41135/201307.csv', '../data_in/41135/201111.csv', '../data_in/41135/201105.csv', '../data_in/41135/201108.csv', '../data_in/41135/200612.csv', '../data_in/41135/202005.csv', '../data_in/41135/202011.csv', '../data_in/41135/200606.csv', '../data_in/41135/200809.csv', '../data_in/41135/201901.csv', '../data_in/41135/200808.csv', '../data_in/41135/200607.csv', '../data_in/41135/202010.csv', '../data_in/41135/202004.csv', '../data_in/41135/201109.csv', '../data_in/41135/201309.csv', '../data_in/41135/202012.csv', '../data_in/41135/200605.csv', '../data_in/41135/200611.csv', '../data_in/41135/202006.csv', '../data_in/41135/201902.csv', '../data_in/41135/201903.csv', '../data_in/41135/202007.csv', '../data_in/41135/200610.csv', '../data_in/41135/200604.csv', '../data_in/41135/201308.csv', '../data_in/41135/202003.csv', '../data_in/41135/201708.csv', '../data_in/41135/201907.csv', '../data_in/41135/201912.csv', '../data_in/41135/201906.csv', '../data_in/41135/201709.csv', '../data_in/41135/202002.csv', '../data_in/41135/200601.csv', '../data_in/41135/201509.csv', '../data_in/41135/200603.csv', '../data_in/41135/201910.csv', '../data_in/41135/201904.csv', '../data_in/41135/201905.csv', '../data_in/41135/201911.csv', '../data_in/41135/200602.csv', '../data_in/41135/202001.csv', '../data_in/41135/201508.csv', '../data_in/41135/201802.csv', '../data_in/41135/200705.csv', '../data_in/41135/200711.csv', '../data_in/41135/201209.csv', '../data_in/41135/201208.csv', '../data_in/41135/200710.csv', '../data_in/41135/200704.csv', '../data_in/41135/201803.csv', '../data_in/41135/201801.csv', '../data_in/41135/200712.csv', '../data_in/41135/200706.csv', '../data_in/41135/200909.csv', '../data_in/41135/201008.csv', '../data_in/41135/201009.csv', '../data_in/41135/200908.csv', '../data_in/41135/200707.csv', '../data_in/41135/201810.csv', '../data_in/41135/201804.csv', '../data_in/41135/201409.csv', '../data_in/41135/200703.csv', '../data_in/41135/200702.csv', '../data_in/41135/202101.csv', '../data_in/41135/201408.csv', '../data_in/41135/201805.csv', '../data_in/41135/201811.csv', '../data_in/41135/201608.csv', '../data_in/41135/201807.csv', '../data_in/41135/202102.csv', '../data_in/41135/200701.csv', '../data_in/41135/201812.csv', '../data_in/41135/201806.csv', '../data_in/41135/201609.csv']\n100%|██████████| 182/182 [00:00<00:00, 191.35it/s]\n609\n"
    }
   ],
   "source": [
    "trade_type = 'apt-trade'\n",
    "for area_code_dir in area_code_dirs: #tqdm.tqdm(area_code_dirs): \n",
    "    area_code = area_code_dir.split('/')[-1]\n",
    "    print(area_code_dir)\n",
    "    filelist = glob.glob(os.path.join(area_code_dir, '*.csv'))\n",
    "    frames = []\n",
    "    print(filelist[:1])\n",
    "    print(filelist)\n",
    "    for filepath in tqdm.tqdm(filelist):\n",
    "        frame = pd.read_csv(filepath, usecols=COLS[trade_type])\n",
    "        frames.append(frame)\n",
    "    print(len(df))\n",
    "    df = pd.concat(frames, axis=0)\n",
    "    df = preprocessing(df)"
   ]
  },
  {
   "cell_type": "code",
   "execution_count": 56,
   "metadata": {},
   "outputs": [],
   "source": [
    "data = df[df['apt_name'] == apt_name_list[0]]\n",
    "data = data[['apt_name','dedicated_area','floor','transaction_amount','transaction_date']]\n",
    "data = data.sort_values('transaction_date', ascending=True).groupby(['floor','dedicated_area']).tail(1)"
   ]
  },
  {
   "cell_type": "code",
   "execution_count": 57,
   "metadata": {},
   "outputs": [
    {
     "data": {
      "text/html": "<div>\n<style scoped>\n    .dataframe tbody tr th:only-of-type {\n        vertical-align: middle;\n    }\n\n    .dataframe tbody tr th {\n        vertical-align: top;\n    }\n\n    .dataframe thead th {\n        text-align: right;\n    }\n</style>\n<table border=\"1\" class=\"dataframe\">\n  <thead>\n    <tr style=\"text-align: right;\">\n      <th></th>\n      <th>apt_name</th>\n      <th>dedicated_area</th>\n      <th>floor</th>\n      <th>transaction_amount</th>\n      <th>transaction_date</th>\n    </tr>\n  </thead>\n  <tbody>\n    <tr>\n      <th>3</th>\n      <td>샛별마을(라이프)</td>\n      <td>153.24</td>\n      <td>13</td>\n      <td>125000.0</td>\n      <td>2006-01-12</td>\n    </tr>\n    <tr>\n      <th>0</th>\n      <td>샛별마을(라이프)</td>\n      <td>89.80</td>\n      <td>16</td>\n      <td>58500.0</td>\n      <td>2006-02-01</td>\n    </tr>\n    <tr>\n      <th>7</th>\n      <td>샛별마을(라이프)</td>\n      <td>78.52</td>\n      <td>24</td>\n      <td>48000.0</td>\n      <td>2006-03-04</td>\n    </tr>\n    <tr>\n      <th>6</th>\n      <td>샛별마을(라이프)</td>\n      <td>153.24</td>\n      <td>17</td>\n      <td>120510.0</td>\n      <td>2007-12-21</td>\n    </tr>\n    <tr>\n      <th>12</th>\n      <td>샛별마을(라이프)</td>\n      <td>84.99</td>\n      <td>19</td>\n      <td>58000.0</td>\n      <td>2009-05-13</td>\n    </tr>\n    <tr>\n      <th>...</th>\n      <td>...</td>\n      <td>...</td>\n      <td>...</td>\n      <td>...</td>\n      <td>...</td>\n    </tr>\n    <tr>\n      <th>34</th>\n      <td>샛별마을(라이프)</td>\n      <td>84.99</td>\n      <td>5</td>\n      <td>115000.0</td>\n      <td>2020-11-26</td>\n    </tr>\n    <tr>\n      <th>37</th>\n      <td>샛별마을(라이프)</td>\n      <td>85.00</td>\n      <td>9</td>\n      <td>123000.0</td>\n      <td>2020-11-27</td>\n    </tr>\n    <tr>\n      <th>5</th>\n      <td>샛별마을(라이프)</td>\n      <td>84.99</td>\n      <td>24</td>\n      <td>108000.0</td>\n      <td>2020-12-08</td>\n    </tr>\n    <tr>\n      <th>6</th>\n      <td>샛별마을(라이프)</td>\n      <td>85.00</td>\n      <td>12</td>\n      <td>127000.0</td>\n      <td>2020-12-09</td>\n    </tr>\n    <tr>\n      <th>3</th>\n      <td>샛별마을(라이프)</td>\n      <td>126.42</td>\n      <td>6</td>\n      <td>153000.0</td>\n      <td>2021-01-22</td>\n    </tr>\n  </tbody>\n</table>\n<p>131 rows × 5 columns</p>\n</div>",
      "text/plain": "     apt_name  dedicated_area  floor  transaction_amount transaction_date\n3   샛별마을(라이프)          153.24     13            125000.0       2006-01-12\n0   샛별마을(라이프)           89.80     16             58500.0       2006-02-01\n7   샛별마을(라이프)           78.52     24             48000.0       2006-03-04\n6   샛별마을(라이프)          153.24     17            120510.0       2007-12-21\n12  샛별마을(라이프)           84.99     19             58000.0       2009-05-13\n..        ...             ...    ...                 ...              ...\n34  샛별마을(라이프)           84.99      5            115000.0       2020-11-26\n37  샛별마을(라이프)           85.00      9            123000.0       2020-11-27\n5   샛별마을(라이프)           84.99     24            108000.0       2020-12-08\n6   샛별마을(라이프)           85.00     12            127000.0       2020-12-09\n3   샛별마을(라이프)          126.42      6            153000.0       2021-01-22\n\n[131 rows x 5 columns]"
     },
     "execution_count": 57,
     "metadata": {},
     "output_type": "execute_result"
    }
   ],
   "source": [
    "data"
   ]
  },
  {
   "cell_type": "code",
   "execution_count": 51,
   "metadata": {},
   "outputs": [
    {
     "data": {
      "text/html": "<div>\n<style scoped>\n    .dataframe tbody tr th:only-of-type {\n        vertical-align: middle;\n    }\n\n    .dataframe tbody tr th {\n        vertical-align: top;\n    }\n\n    .dataframe thead th {\n        text-align: right;\n    }\n</style>\n<table border=\"1\" class=\"dataframe\">\n  <thead>\n    <tr style=\"text-align: right;\">\n      <th></th>\n      <th></th>\n      <th></th>\n      <th></th>\n      <th>transaction_date</th>\n    </tr>\n    <tr>\n      <th>apt_name</th>\n      <th>dedicated_area</th>\n      <th>floor</th>\n      <th>transaction_amount</th>\n      <th></th>\n    </tr>\n  </thead>\n  <tbody>\n    <tr>\n      <th>샛별마을(라이프)</th>\n      <th>126.42</th>\n      <th>6</th>\n      <th>153000.0</th>\n      <td>2021-01-22</td>\n    </tr>\n  </tbody>\n</table>\n</div>",
      "text/plain": "                                                  transaction_date\napt_name  dedicated_area floor transaction_amount                 \n샛별마을(라이프) 126.42         6     153000.0                 2021-01-22"
     },
     "execution_count": 51,
     "metadata": {},
     "output_type": "execute_result"
    }
   ],
   "source": [
    "data.sort_values('transaction_date', ascending=False).head(1)"
   ]
  },
  {
   "cell_type": "code",
   "execution_count": 19,
   "metadata": {},
   "outputs": [],
   "source": [
    "area_code_dirs = list(filter(lambda x: 'tar' not in x, glob.glob(os.path.join('../data_in','*'))))"
   ]
  },
  {
   "cell_type": "code",
   "execution_count": 63,
   "metadata": {},
   "outputs": [
    {
     "name": "stderr",
     "output_type": "stream",
     "text": "10%|█         | 19/182 [00:00<00:00, 185.66it/s]../data_in/41135\n['../data_in/41135/201604.csv']\n['../data_in/41135/201604.csv', '../data_in/41135/201610.csv', '../data_in/41135/201406.csv', '../data_in/41135/201412.csv', '../data_in/41135/200903.csv', '../data_in/41135/201002.csv', '../data_in/41135/201003.csv', '../data_in/41135/201201.csv', '../data_in/41135/200902.csv', '../data_in/41135/201407.csv', '../data_in/41135/201611.csv', '../data_in/41135/201605.csv', '../data_in/41135/201607.csv', '../data_in/41135/201808.csv', '../data_in/41135/201411.csv', '../data_in/41135/201405.csv', '../data_in/41135/201203.csv', '../data_in/41135/201001.csv', '../data_in/41135/201202.csv', '../data_in/41135/200901.csv', '../data_in/41135/201404.csv', '../data_in/41135/201410.csv', '../data_in/41135/201809.csv', '../data_in/41135/201606.csv', '../data_in/41135/201612.csv', '../data_in/41135/201602.csv', '../data_in/41135/200911.csv', '../data_in/41135/200905.csv', '../data_in/41135/201206.csv', '../data_in/41135/201212.csv', '../data_in/41135/201004.csv', '../data_in/41135/201010.csv', '../data_in/41135/201011.csv', '../data_in/41135/201005.csv', '../data_in/41135/201207.csv', '../data_in/41135/200904.csv', '../data_in/41135/200910.csv', '../data_in/41135/201401.csv', '../data_in/41135/201603.csv', '../data_in/41135/201601.csv', '../data_in/41135/201403.csv', '../data_in/41135/200709.csv', '../data_in/41135/200906.csv', '../data_in/41135/200912.csv', '../data_in/41135/201211.csv', '../data_in/41135/201205.csv', '../data_in/41135/201007.csv', '../data_in/41135/201006.csv', '../data_in/41135/201012.csv', '../data_in/41135/201204.csv', '../data_in/41135/201210.csv', '../data_in/41135/200907.csv', '../data_in/41135/200708.csv', '../data_in/41135/201402.csv', '../data_in/41135/201101.csv', '../data_in/41135/201303.csv', '../data_in/41135/201511.csv', '../data_in/41135/201505.csv', '../data_in/41135/201707.csv', '../data_in/41135/201908.csv', '../data_in/41135/201909.csv', '../data_in/41135/201706.csv', '../data_in/41135/201712.csv', '../data_in/41135/200801.csv', '../data_in/41135/201504.csv', '../data_in/41135/201510.csv', '../data_in/41135/201302.csv', '../data_in/41135/201102.csv', '../data_in/41135/201506.csv', '../data_in/41135/201512.csv', '../data_in/41135/200803.csv', '../data_in/41135/201704.csv', '../data_in/41135/201710.csv', '../data_in/41135/201711.csv', '../data_in/41135/201705.csv', '../data_in/41135/200802.csv', '../data_in/41135/201507.csv', '../data_in/41135/201301.csv', '../data_in/41135/201103.csv', '../data_in/41135/201107.csv', '../data_in/41135/201311.csv', '../data_in/41135/201305.csv', '../data_in/41135/201503.csv', '../data_in/41135/200609.csv', '../data_in/41135/200806.csv', '../data_in/41135/200812.csv', '../data_in/41135/201701.csv', '../data_in/41135/200807.csv', '../data_in/41135/200608.csv', '../data_in/41135/201502.csv', '../data_in/41135/201304.csv', '../data_in/41135/201310.csv', '../data_in/41135/201106.csv', '../data_in/41135/201112.csv', '../data_in/41135/201104.csv', '../data_in/41135/201110.csv', '../data_in/41135/201306.csv', '../data_in/41135/201312.csv', '../data_in/41135/202009.csv', '../data_in/41135/200811.csv', '../data_in/41135/200805.csv', '../data_in/41135/201702.csv', '../data_in/41135/201703.csv', '../data_in/41135/200804.csv', '../data_in/41135/200810.csv', '../data_in/41135/201501.csv', '../data_in/41135/202008.csv', '../data_in/41135/201307.csv', '../data_in/41135/201111.csv', '../data_in/41135/201105.csv', '../data_in/41135/201108.csv', '../data_in/41135/200612.csv', '../data_in/41135/202005.csv', '../data_in/41135/202011.csv', '../data_in/41135/200606.csv', '../data_in/41135/200809.csv', '../data_in/41135/201901.csv', '../data_in/41135/200808.csv', '../data_in/41135/200607.csv', '../data_in/41135/202010.csv', '../data_in/41135/202004.csv', '../data_in/41135/201109.csv', '../data_in/41135/201309.csv', '../data_in/41135/202012.csv', '../data_in/41135/200605.csv', '../data_in/41135/200611.csv', '../data_in/41135/202006.csv', '../data_in/41135/201902.csv', '../data_in/41135/201903.csv', '../data_in/41135/202007.csv', '../data_in/41135/200610.csv', '../data_in/41135/200604.csv', '../data_in/41135/201308.csv', '../data_in/41135/202003.csv', '../data_in/41135/201708.csv', '../data_in/41135/201907.csv', '../data_in/41135/201912.csv', '../data_in/41135/201906.csv', '../data_in/41135/201709.csv', '../data_in/41135/202002.csv', '../data_in/41135/200601.csv', '../data_in/41135/201509.csv', '../data_in/41135/200603.csv', '../data_in/41135/201910.csv', '../data_in/41135/201904.csv', '../data_in/41135/201905.csv', '../data_in/41135/201911.csv', '../data_in/41135/200602.csv', '../data_in/41135/202001.csv', '../data_in/41135/201508.csv', '../data_in/41135/201802.csv', '../data_in/41135/200705.csv', '../data_in/41135/200711.csv', '../data_in/41135/201209.csv', '../data_in/41135/201208.csv', '../data_in/41135/200710.csv', '../data_in/41135/200704.csv', '../data_in/41135/201803.csv', '../data_in/41135/201801.csv', '../data_in/41135/200712.csv', '../data_in/41135/200706.csv', '../data_in/41135/200909.csv', '../data_in/41135/201008.csv', '../data_in/41135/201009.csv', '../data_in/41135/200908.csv', '../data_in/41135/200707.csv', '../data_in/41135/201810.csv', '../data_in/41135/201804.csv', '../data_in/41135/201409.csv', '../data_in/41135/200703.csv', '../data_in/41135/200702.csv', '../data_in/41135/202101.csv', '../data_in/41135/201408.csv', '../data_in/41135/201805.csv', '../data_in/41135/201811.csv', '../data_in/41135/201608.csv', '../data_in/41135/201807.csv', '../data_in/41135/202102.csv', '../data_in/41135/200701.csv', '../data_in/41135/201812.csv', '../data_in/41135/201806.csv', '../data_in/41135/201609.csv']\n100%|██████████| 182/182 [00:00<00:00, 191.88it/s]\n  0%|          | 0/190 [00:00<?, ?it/s]13323\n['샛별마을(라이프)', '장안타운(건영)', '샛별마을(동성)', '샛별마을(삼부)', '샛별마을(우방)', '파크타운(대림)', '양지마을(5단지)(한양515-529)', '푸른마을(쌍용)', '파크타운(서안)', '양지마을(5단지)(한양501-514)', '푸른마을(신성)', '양지마을(2단지)(청구)', '파크타운(삼익)', '양지마을(금호1)', '푸른마을(벽산)', '파크타운(롯데)', '양지마을(3단지)(금호)', '느티마을(4단지)(공무원)', '아데나팰리스', '한솔마을(4단지)(주공)', '한솔마을(1단지)(청구)', '상록마을(보성)', '한솔마을(3단지)(한일)', '한솔마을(6단지)(주공)', '한솔마을(5단지)(주공)', '정든마을(2단지)(동아)', '느티마을(3단지)(공무원)', '미켈란쉐르빌', '로얄팰리스', '정든마을(6단지)(우성)', '정든마을(5단지)(신화)', '상록마을(우성)1', '분당더샵스타파크', '분당파크뷰', '현대I-PARK1', '상록마을(임광)', '한솔마을(2단지)(LG)', '성원상떼뷰101동', '정든마을(8단지)(한진)', '성원상떼뷰201동', '동양정자파라곤(1단지)', '정든마을(7단지)(한진)', '정든마을(4단지)(우성)', '현대I-PARK3', '상록마을(라이프1차)', '시범삼성', '효자촌(삼환)', '시범한신', '시범한양', '시범현대', '효자촌(대우)', '효자촌(동아)', '효자촌(현대)', '효자촌(화성)', '시범우성', '효자촌(대창)', '이매촌(금강)', '이매촌(청구)', '이매촌(한신)', '이매촌(동신9)', '아름마을(풍림)', '이매촌(성지)', '아름마을(태영)', '이매촌(동신3)', '아름마을(건영)', '아름마을(삼호)', '아름마을(효성)', '아름마을(두산)', '이매촌(진흥)', '이매촌(삼성)', '아름마을(선경)', '아름마을(한성)', '이매촌(삼환)', '장미마을(현대)', '매화마을공무원2', '매화마을(주공4)', '장미마을(동부)', '탑마을(벽산)', '장미마을(코오롱)1', '매화마을(주공3)', '탑마을(주공)', '목련마을(한일)', '현대I-PARK', '탑마을(기산)1', '탑마을(경남)1', '매화마을공무원1', '목련마을(영남)', '탑마을(선경)1', '탑마을(경향)', '탑마을(진덕)', '목련마을(한신)', 'SK-VIEW', '동원로얄듀크', '목련마을SK아파트', '야탑진흥더블파크', '탑마을(쌍용)1', '판교원마을11단지(현대)', '판교원마을9단지(한림풀에버)', '판교원마을3단지(푸르지오)', '판교원마을5단지(푸르지오)', '판교원마을7단지(모아미래도)임대', '봇들마을4단지(주공)', '봇들마을7단지', '봇들마을1단지(판교신미주)', '봇들마을9단지(금호어울림)', '봇들마을2단지(이지더원)', '봇들마을8단지(주공)', '판교푸르지오그랑블', '백현마을9단지(e편한세상)', '백현마을7단지(주공)', '백현마을5단지(주공)', '백현마을2단지(주공)일부임대', '청솔마을(대원)', '청솔마을(계룡)', '청솔마을(성원)', '두산위브트레지움', '청솔마을(한라)', '청솔마을(주공9단지)', '분당하우스토리', '청솔마을(영남)', '청솔마을(공무원)', '청솔마을(서광)', '청솔마을(유천)', '무지개(4단지)(주공)', '까치마을(3단지)(신원)', '무지개(8단지)(제일)', '무지개(3단지)(건영)', '까치마을(4단지)(롯데)', '무지개(3단지)(신한)', '무지개(5단지)(청구)', '까치마을(4단지)(선경)', '무지개(12단지)(주공뜨란체)', '까치마을(1단지)(대우롯데선경)', '까치마을(2단지)(주공)', '하얀마을(5단지)(주공)', '무지개(2단지)(엘지)', '무지개(1단지)(대림)', '무지개(7단지)(라이프)', '산운마을6단지(주공휴먼시아)', '산운마을14단지(경남아너스빌)', '산운마을13단지(태영)일부임대', '산운마을10단지(대광로제비앙)', '산운마을9단지(대방노블랜드)임대전환', '산운마을5단지(한성필하우스)', '정든마을(1단지)(동아)', '삼성아데나루체', '상록마을(라이프2차)', '현대I-PARK2', '동양정자파라곤(2단지)', '정든마을(6단지)(한진)', '두산제니스', '효자촌(임광)', '효자촌(미래타운)', '효자촌(럭키)', '이매촌(동부/코오롱)', '탑마을(대우)', '판교원마을2단지(푸르지오)', '판교원마을1단지(주공휴먼시아)', '백현마을6단지(주공)', '판교알파리움2단지', '판교알파리움1단지', '청솔마을(동아)', '무지개(10단지)(건영)', '무지개(11단지)(금강센테리움)', '무지개(9단지)(동아)', '무지개(6단지)(건영)', '무지개(10단지)(삼성)', '산운마을4단지(건영캐스빌)', '동양정자파라곤(3단지)', '삼라마이다스빌', '코오롱더프라우', '서울시니어스분당타워', '판교푸르지오월드마크', '판교호반써밋플레이스', '양지마을(6단지)(금호,청구)', '판교원마을6단지(진원로제비앙)임대', '산운마을8단지(부영사랑으로)임대전환', '판교원마을7단지(모아미래도)', '판교원마을12단지(힐스테이트)', '판교원마을6단지(진원로제비앙)', '봇들마을3단지(주공)', '백현마을8단지(대림)', '산운마을13단지(태영)', '산운마을11단지(주공)', '산운마을12단지(주공)', '산운마을8단지(부영사랑으로)', '산운마을9단지(대방노블랜드)', '산운마을12단지(주공)임대전환', '산운마을11단지(주공)임대전환', '판교원마을12단지(휴먼시아)임대']\n100%|██████████| 190/190 [00:02<00:00, 83.40it/s]\n"
    }
   ],
   "source": [
    "trade_type = 'apt-trade'\n",
    "for area_code_dir in area_code_dirs: #tqdm.tqdm(area_code_dirs): \n",
    "    area_code = area_code_dir.split('/')[-1]\n",
    "    print(area_code_dir)\n",
    "    filelist = glob.glob(os.path.join(area_code_dir, '*.csv'))\n",
    "    frames = []\n",
    "    print(filelist[:1])\n",
    "    print(filelist)\n",
    "    for filepath in tqdm.tqdm(filelist):\n",
    "        frame = pd.read_csv(filepath, usecols=COLS[trade_type])\n",
    "        frames.append(frame)\n",
    "    print(len(df))\n",
    "    df = pd.concat(frames, axis=0)\n",
    "    df = preprocessing(df)\n",
    "    print(df['apt_name'].unique().tolist())\n",
    "    df = price_dedicatedarea_floor(df)\n",
    "    df.to_csv(f'../data_out/price_dedicatedarea_floor/41135.csv', index=False)"
   ]
  },
  {
   "cell_type": "code",
   "execution_count": null,
   "metadata": {},
   "outputs": [],
   "source": []
  }
 ]
}