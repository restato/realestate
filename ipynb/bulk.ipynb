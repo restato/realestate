{
 "nbformat": 4,
 "nbformat_minor": 2,
 "metadata": {
  "language_info": {
   "name": "python",
   "codemirror_mode": {
    "name": "ipython",
    "version": 3
   },
   "version": "3.7.3-final"
  },
  "orig_nbformat": 2,
  "file_extension": ".py",
  "mimetype": "text/x-python",
  "name": "python",
  "npconvert_exporter": "python",
  "pygments_lexer": "ipython3",
  "version": 3,
  "kernelspec": {
   "name": "python37364bitda77c6fcc1614c8ea88f925d6dabbd4e",
   "display_name": "Python 3.7.3 64-bit"
  }
 },
 "cells": [
  {
   "cell_type": "code",
   "execution_count": 1,
   "metadata": {},
   "outputs": [
    {
     "data": {
      "text/plain": "{'cluster_name': 'elasticsearch',\n 'status': 'yellow',\n 'timed_out': False,\n 'number_of_nodes': 1,\n 'number_of_data_nodes': 1,\n 'active_primary_shards': 1,\n 'active_shards': 1,\n 'relocating_shards': 0,\n 'initializing_shards': 0,\n 'unassigned_shards': 1,\n 'delayed_unassigned_shards': 0,\n 'number_of_pending_tasks': 0,\n 'number_of_in_flight_fetch': 0,\n 'task_max_waiting_in_queue_millis': 0,\n 'active_shards_percent_as_number': 50.0}"
     },
     "execution_count": 1,
     "metadata": {},
     "output_type": "execute_result"
    }
   ],
   "source": [
    "#-*- coding: utf-8 -*-\n",
    "from elasticsearch import Elasticsearch,JSONSerializer, helpers\n",
    "import numpy as np\n",
    "import json\n",
    "\n",
    "# https://github.com/elastic/elasticsearch-py/issues/378\n",
    "class NumpyEncoder(JSONSerializer):\n",
    "    \"\"\" Special json encoder for numpy types \"\"\"\n",
    "    def default(self, obj):\n",
    "        if isinstance(obj, (np.int_, np.intc, np.intp, np.int8,\n",
    "            np.int16, np.int32, np.int64, np.uint8,\n",
    "            np.uint16, np.uint32, np.uint64)):\n",
    "            return int(obj)\n",
    "        elif isinstance(obj, (np.float_, np.float16, np.float32, \n",
    "            np.float64)):\n",
    "            return float(obj)\n",
    "        elif isinstance(obj,(np.ndarray,)): #### This is the fix\n",
    "            return obj.tolist()\n",
    "        return JSONSerializer.default(self, obj)\n",
    "        \n",
    "es = Elasticsearch(hosts=\"122.32.196.201:9200\", port=9200, serializer=NumpyEncoder())  # 객체 생성\n",
    "\n",
    "# Es Cluster Health Check\n",
    "es.cluster.health() "
   ]
  },
  {
   "cell_type": "code",
   "execution_count": 9,
   "metadata": {},
   "outputs": [],
   "source": [
    "# encoding: utf8\n",
    "from __future__ import print_function\n",
    "import multiprocessing\n",
    "from joblib import Parallel, delayed\n",
    "\n",
    "import argparse\n",
    "import tqdm\n",
    "import os\n",
    "import glob\n",
    "import re\n",
    "import pandas as pd\n",
    " \n",
    "COLS = {}\n",
    "COLS['apt-trade'] = ['si', 'gu', 'sigungu', 'legal_dong', 'apt_name', 'transaction_amount', 'transaction_date', 'description',\n",
    "                     'transaction_year', 'transaction_month', 'floor', 'dedicated_area', 'year_of_construction']\n",
    "COLS['apt-rent'] = ['si', 'gu', 'sigungu', 'legal_dong', 'apt_name', 'transaction_amount', 'transaction_date',\n",
    "                    'transaction_year', 'transaction_month', 'floor', 'dedicated_area', 'monthly_rent', 'deposit']\n",
    "\n",
    "\n",
    "def preprocessing(df: pd.DataFrame) -> pd.DataFrame:\n",
    "    # preprocessing\n",
    "    df['transaction_amount'] = df['transaction_amount'].astype(float)\n",
    "    # df['transaction_amount'] = df['transaction_amount'].astype(\n",
    "    # float).apply(lambda x: round(x / 10000, 2))\n",
    "    # 2016-05-26 0:00:00 \n",
    "\n",
    "    df['message'] = df['apt_name'].apply(lambda x: ' '.join(re.compile('[가-힣0-9]+').findall(x)))\n",
    "    df['transaction_date'] = pd.to_datetime(\n",
    "        df['transaction_date'], format=\"%Y-%m-%d %H:%M:%S\").dt.date \n",
    "    df['transaction_year'] = df['transaction_year'].astype(object)\n",
    "    df['transaction_month'] = df['transaction_month'].astype(object)\n",
    "    df['year_of_construction'] = df['year_of_construction'].astype(int)\n",
    "    df['floor'] = df['floor'].astype(int)\n",
    "    df['dedicated_area'] = df['dedicated_area'].astype(float)\n",
    "\n",
    "    if 'monthly_rent' in df.columns:\n",
    "        df['monthly_rent'] = df['monthly_rent'].astype(int)\n",
    "    return df"
   ]
  },
  {
   "cell_type": "code",
   "execution_count": 10,
   "metadata": {},
   "outputs": [],
   "source": [
    "area_code_dirs = list(filter(lambda x: 'tar' not in x, glob.glob(os.path.join('../data_in','*'))))"
   ]
  },
  {
   "cell_type": "code",
   "execution_count": 11,
   "metadata": {},
   "outputs": [
    {
     "name": "stderr",
     "output_type": "stream",
     "text": "11%|█         | 20/182 [00:00<00:00, 191.62it/s]../data_in/41135\n['../data_in/41135/201604.csv']\n100%|██████████| 182/182 [00:00<00:00, 205.71it/s]\n"
    }
   ],
   "source": [
    "import tqdm\n",
    "\n",
    "trade_type = 'apt-trade'\n",
    "for area_code_dir in area_code_dirs: #tqdm.tqdm(area_code_dirs): \n",
    "    area_code = area_code_dir.split('/')[-1]\n",
    "    print(area_code_dir)\n",
    "    filelist = glob.glob(os.path.join(area_code_dir, '*.csv'))\n",
    "    frames = []\n",
    "    print(filelist[:1])\n",
    "    for filepath in tqdm.tqdm(filelist):\n",
    "        frame = pd.read_csv(filepath, usecols=COLS[trade_type])\n",
    "        frames.append(frame)\n",
    "    df = pd.concat(frames, axis=0)\n",
    "    df = preprocessing(df)"
   ]
  },
  {
   "cell_type": "code",
   "execution_count": 12,
   "metadata": {},
   "outputs": [
    {
     "data": {
      "text/plain": "Index(['transaction_amount', 'year_of_construction', 'transaction_year',\n       'legal_dong', 'apt_name', 'transaction_month', 'dedicated_area',\n       'floor', 'si', 'gu', 'sigungu', 'transaction_date', 'description',\n       'message'],\n      dtype='object')"
     },
     "execution_count": 12,
     "metadata": {},
     "output_type": "execute_result"
    }
   ],
   "source": [
    "df.columns"
   ]
  },
  {
   "cell_type": "code",
   "execution_count": 13,
   "metadata": {},
   "outputs": [
    {
     "data": {
      "text/html": "<div>\n<style scoped>\n    .dataframe tbody tr th:only-of-type {\n        vertical-align: middle;\n    }\n\n    .dataframe tbody tr th {\n        vertical-align: top;\n    }\n\n    .dataframe thead th {\n        text-align: right;\n    }\n</style>\n<table border=\"1\" class=\"dataframe\">\n  <thead>\n    <tr style=\"text-align: right;\">\n      <th></th>\n      <th>transaction_amount</th>\n      <th>year_of_construction</th>\n      <th>transaction_year</th>\n      <th>legal_dong</th>\n      <th>apt_name</th>\n      <th>transaction_month</th>\n      <th>dedicated_area</th>\n      <th>floor</th>\n      <th>si</th>\n      <th>gu</th>\n      <th>sigungu</th>\n      <th>transaction_date</th>\n      <th>description</th>\n      <th>message</th>\n    </tr>\n  </thead>\n  <tbody>\n    <tr>\n      <th>0</th>\n      <td>52500.0</td>\n      <td>1993</td>\n      <td>2016</td>\n      <td>분당동</td>\n      <td>샛별마을(라이프)</td>\n      <td>4</td>\n      <td>84.99</td>\n      <td>18</td>\n      <td>경기도</td>\n      <td>성남시 분당구</td>\n      <td>경기도 성남시 분당구</td>\n      <td>2016-04-01</td>\n      <td>경기도 성남시 분당구 분당동 샛별마을 라이프</td>\n      <td>샛별마을 라이프</td>\n    </tr>\n    <tr>\n      <th>1</th>\n      <td>46000.0</td>\n      <td>1993</td>\n      <td>2016</td>\n      <td>분당동</td>\n      <td>장안타운(건영)</td>\n      <td>4</td>\n      <td>85.00</td>\n      <td>1</td>\n      <td>경기도</td>\n      <td>성남시 분당구</td>\n      <td>경기도 성남시 분당구</td>\n      <td>2016-04-06</td>\n      <td>경기도 성남시 분당구 분당동 장안타운 건영</td>\n      <td>장안타운 건영</td>\n    </tr>\n    <tr>\n      <th>2</th>\n      <td>40500.0</td>\n      <td>1993</td>\n      <td>2016</td>\n      <td>분당동</td>\n      <td>장안타운(건영)</td>\n      <td>4</td>\n      <td>70.68</td>\n      <td>7</td>\n      <td>경기도</td>\n      <td>성남시 분당구</td>\n      <td>경기도 성남시 분당구</td>\n      <td>2016-04-06</td>\n      <td>경기도 성남시 분당구 분당동 장안타운 건영</td>\n      <td>장안타운 건영</td>\n    </tr>\n    <tr>\n      <th>3</th>\n      <td>42000.0</td>\n      <td>1992</td>\n      <td>2016</td>\n      <td>분당동</td>\n      <td>샛별마을(동성)</td>\n      <td>4</td>\n      <td>69.39</td>\n      <td>4</td>\n      <td>경기도</td>\n      <td>성남시 분당구</td>\n      <td>경기도 성남시 분당구</td>\n      <td>2016-04-07</td>\n      <td>경기도 성남시 분당구 분당동 샛별마을 동성</td>\n      <td>샛별마을 동성</td>\n    </tr>\n    <tr>\n      <th>4</th>\n      <td>35900.0</td>\n      <td>1992</td>\n      <td>2016</td>\n      <td>분당동</td>\n      <td>샛별마을(삼부)</td>\n      <td>4</td>\n      <td>59.82</td>\n      <td>1</td>\n      <td>경기도</td>\n      <td>성남시 분당구</td>\n      <td>경기도 성남시 분당구</td>\n      <td>2016-04-09</td>\n      <td>경기도 성남시 분당구 분당동 샛별마을 삼부</td>\n      <td>샛별마을 삼부</td>\n    </tr>\n    <tr>\n      <th>...</th>\n      <td>...</td>\n      <td>...</td>\n      <td>...</td>\n      <td>...</td>\n      <td>...</td>\n      <td>...</td>\n      <td>...</td>\n      <td>...</td>\n      <td>...</td>\n      <td>...</td>\n      <td>...</td>\n      <td>...</td>\n      <td>...</td>\n      <td>...</td>\n    </tr>\n    <tr>\n      <th>1137</th>\n      <td>71800.0</td>\n      <td>2008</td>\n      <td>2016</td>\n      <td>운중동</td>\n      <td>산운마을9단지(대방노블랜드)임대전환</td>\n      <td>9</td>\n      <td>84.99</td>\n      <td>11</td>\n      <td>경기도</td>\n      <td>성남시 분당구</td>\n      <td>경기도 성남시 분당구</td>\n      <td>2016-09-28</td>\n      <td>경기도 성남시 분당구 운중동 산운마을9단지 대방노블랜드 임대전환</td>\n      <td>산운마을9단지 대방노블랜드 임대전환</td>\n    </tr>\n    <tr>\n      <th>1138</th>\n      <td>78000.0</td>\n      <td>2009</td>\n      <td>2016</td>\n      <td>운중동</td>\n      <td>산운마을6단지(주공휴먼시아)</td>\n      <td>9</td>\n      <td>101.20</td>\n      <td>2</td>\n      <td>경기도</td>\n      <td>성남시 분당구</td>\n      <td>경기도 성남시 분당구</td>\n      <td>2016-09-28</td>\n      <td>경기도 성남시 분당구 운중동 산운마을6단지 주공휴먼시아</td>\n      <td>산운마을6단지 주공휴먼시아</td>\n    </tr>\n    <tr>\n      <th>1139</th>\n      <td>83800.0</td>\n      <td>2009</td>\n      <td>2016</td>\n      <td>운중동</td>\n      <td>산운마을14단지(경남아너스빌)</td>\n      <td>9</td>\n      <td>115.44</td>\n      <td>14</td>\n      <td>경기도</td>\n      <td>성남시 분당구</td>\n      <td>경기도 성남시 분당구</td>\n      <td>2016-09-30</td>\n      <td>경기도 성남시 분당구 운중동 산운마을14단지 경남아너스빌</td>\n      <td>산운마을14단지 경남아너스빌</td>\n    </tr>\n    <tr>\n      <th>1140</th>\n      <td>89000.0</td>\n      <td>2009</td>\n      <td>2016</td>\n      <td>운중동</td>\n      <td>산운마을6단지(주공휴먼시아)</td>\n      <td>9</td>\n      <td>118.64</td>\n      <td>13</td>\n      <td>경기도</td>\n      <td>성남시 분당구</td>\n      <td>경기도 성남시 분당구</td>\n      <td>2016-09-30</td>\n      <td>경기도 성남시 분당구 운중동 산운마을6단지 주공휴먼시아</td>\n      <td>산운마을6단지 주공휴먼시아</td>\n    </tr>\n    <tr>\n      <th>1141</th>\n      <td>82000.0</td>\n      <td>2009</td>\n      <td>2016</td>\n      <td>운중동</td>\n      <td>산운마을6단지(주공휴먼시아)</td>\n      <td>9</td>\n      <td>101.06</td>\n      <td>10</td>\n      <td>경기도</td>\n      <td>성남시 분당구</td>\n      <td>경기도 성남시 분당구</td>\n      <td>2016-09-30</td>\n      <td>경기도 성남시 분당구 운중동 산운마을6단지 주공휴먼시아</td>\n      <td>산운마을6단지 주공휴먼시아</td>\n    </tr>\n  </tbody>\n</table>\n<p>91030 rows × 14 columns</p>\n</div>",
      "text/plain": "      transaction_amount  year_of_construction transaction_year legal_dong  \\\n0                52500.0                  1993             2016        분당동   \n1                46000.0                  1993             2016        분당동   \n2                40500.0                  1993             2016        분당동   \n3                42000.0                  1992             2016        분당동   \n4                35900.0                  1992             2016        분당동   \n...                  ...                   ...              ...        ...   \n1137             71800.0                  2008             2016        운중동   \n1138             78000.0                  2009             2016        운중동   \n1139             83800.0                  2009             2016        운중동   \n1140             89000.0                  2009             2016        운중동   \n1141             82000.0                  2009             2016        운중동   \n\n                 apt_name transaction_month  dedicated_area  floor   si  \\\n0               샛별마을(라이프)                 4           84.99     18  경기도   \n1                장안타운(건영)                 4           85.00      1  경기도   \n2                장안타운(건영)                 4           70.68      7  경기도   \n3                샛별마을(동성)                 4           69.39      4  경기도   \n4                샛별마을(삼부)                 4           59.82      1  경기도   \n...                   ...               ...             ...    ...  ...   \n1137  산운마을9단지(대방노블랜드)임대전환                 9           84.99     11  경기도   \n1138      산운마을6단지(주공휴먼시아)                 9          101.20      2  경기도   \n1139     산운마을14단지(경남아너스빌)                 9          115.44     14  경기도   \n1140      산운마을6단지(주공휴먼시아)                 9          118.64     13  경기도   \n1141      산운마을6단지(주공휴먼시아)                 9          101.06     10  경기도   \n\n           gu      sigungu transaction_date  \\\n0     성남시 분당구  경기도 성남시 분당구       2016-04-01   \n1     성남시 분당구  경기도 성남시 분당구       2016-04-06   \n2     성남시 분당구  경기도 성남시 분당구       2016-04-06   \n3     성남시 분당구  경기도 성남시 분당구       2016-04-07   \n4     성남시 분당구  경기도 성남시 분당구       2016-04-09   \n...       ...          ...              ...   \n1137  성남시 분당구  경기도 성남시 분당구       2016-09-28   \n1138  성남시 분당구  경기도 성남시 분당구       2016-09-28   \n1139  성남시 분당구  경기도 성남시 분당구       2016-09-30   \n1140  성남시 분당구  경기도 성남시 분당구       2016-09-30   \n1141  성남시 분당구  경기도 성남시 분당구       2016-09-30   \n\n                              description              message  \n0                경기도 성남시 분당구 분당동 샛별마을 라이프             샛별마을 라이프  \n1                 경기도 성남시 분당구 분당동 장안타운 건영              장안타운 건영  \n2                 경기도 성남시 분당구 분당동 장안타운 건영              장안타운 건영  \n3                 경기도 성남시 분당구 분당동 샛별마을 동성              샛별마을 동성  \n4                 경기도 성남시 분당구 분당동 샛별마을 삼부              샛별마을 삼부  \n...                                   ...                  ...  \n1137  경기도 성남시 분당구 운중동 산운마을9단지 대방노블랜드 임대전환  산운마을9단지 대방노블랜드 임대전환  \n1138       경기도 성남시 분당구 운중동 산운마을6단지 주공휴먼시아       산운마을6단지 주공휴먼시아  \n1139      경기도 성남시 분당구 운중동 산운마을14단지 경남아너스빌      산운마을14단지 경남아너스빌  \n1140       경기도 성남시 분당구 운중동 산운마을6단지 주공휴먼시아       산운마을6단지 주공휴먼시아  \n1141       경기도 성남시 분당구 운중동 산운마을6단지 주공휴먼시아       산운마을6단지 주공휴먼시아  \n\n[91030 rows x 14 columns]"
     },
     "execution_count": 13,
     "metadata": {},
     "output_type": "execute_result"
    }
   ],
   "source": [
    "\n",
    "df"
   ]
  },
  {
   "cell_type": "code",
   "execution_count": 15,
   "metadata": {},
   "outputs": [],
   "source": [
    "from elasticsearch import Elasticsearch,JSONSerializer, helpers\n",
    "\n",
    "response = helpers.bulk(es, df.to_dict('record'), index='apt-trade') "
   ]
  }
 ]
}