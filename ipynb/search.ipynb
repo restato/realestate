{
 "nbformat": 4,
 "nbformat_minor": 2,
 "metadata": {
  "language_info": {
   "name": "python",
   "codemirror_mode": {
    "name": "ipython",
    "version": 3
   },
   "version": "3.7.3-final"
  },
  "orig_nbformat": 2,
  "file_extension": ".py",
  "mimetype": "text/x-python",
  "name": "python",
  "npconvert_exporter": "python",
  "pygments_lexer": "ipython3",
  "version": 3,
  "kernelspec": {
   "name": "python37364bitvenvvenv10d8877c1e4740aa9cab0901ac758ed0",
   "display_name": "Python 3.7.3 64-bit ('venv': venv)"
  }
 },
 "cells": [
  {
   "cell_type": "code",
   "execution_count": 3,
   "metadata": {},
   "outputs": [],
   "source": [
    "#-*- coding: utf-8 -*-\n",
    "from elasticsearch import Elasticsearch,JSONSerializer, helpers\n",
    "\n",
    "import numpy as np\n",
    "import pandas as pd\n",
    "import json\n",
    "\n",
    "# https://github.com/elastic/elasticsearch-py/issues/378\n",
    "class NumpyEncoder(JSONSerializer):\n",
    "    \"\"\" Special json encoder for numpy types \"\"\"\n",
    "    def default(self, obj):\n",
    "        if isinstance(obj, (np.int_, np.intc, np.intp, np.int8,\n",
    "            np.int16, np.int32, np.int64, np.uint8,\n",
    "            np.uint16, np.uint32, np.uint64)):\n",
    "            return int(obj)\n",
    "        elif isinstance(obj, (np.float_, np.float16, np.float32, \n",
    "            np.float64)):\n",
    "            return float(obj)\n",
    "        elif isinstance(obj,(np.ndarray,)): #### This is the fix\n",
    "            return obj.tolist()\n",
    "        return JSONSerializer.default(self, obj)\n",
    "        \n",
    "es = Elasticsearch(hosts=\"122.32.196.201:9200\", port=9200, serializer=NumpyEncoder())  # 객체 생성\n",
    "\n",
    "# Es Cluster Health Check\n",
    "es.cluster.health() \n",
    "\n",
    "\n",
    "response = es.search(index='apt-trade', body={})\n",
    "df = pd.DataFrame(response['hits']['hits'])\n",
    "df = df['_source'].apply(pd.Series)"
   ]
  },
  {
   "cell_type": "code",
   "execution_count": 15,
   "metadata": {},
   "outputs": [
    {
     "data": {
      "text/html": "<div>\n<style scoped>\n    .dataframe tbody tr th:only-of-type {\n        vertical-align: middle;\n    }\n\n    .dataframe tbody tr th {\n        vertical-align: top;\n    }\n\n    .dataframe thead th {\n        text-align: right;\n    }\n</style>\n<table border=\"1\" class=\"dataframe\">\n  <thead>\n    <tr style=\"text-align: right;\">\n      <th></th>\n      <th>transaction_amount</th>\n      <th>year_of_construction</th>\n      <th>transaction_year</th>\n      <th>legal_dong</th>\n      <th>apt_name</th>\n      <th>transaction_month</th>\n      <th>dedicated_area</th>\n      <th>floor</th>\n      <th>si</th>\n      <th>gu</th>\n      <th>sigungu</th>\n      <th>transaction_date</th>\n      <th>description</th>\n      <th>message</th>\n    </tr>\n  </thead>\n  <tbody>\n    <tr>\n      <th>0</th>\n      <td>52500.0</td>\n      <td>1993</td>\n      <td>2016</td>\n      <td>분당동</td>\n      <td>샛별마을(라이프)</td>\n      <td>4</td>\n      <td>84.99</td>\n      <td>18</td>\n      <td>경기도</td>\n      <td>성남시 분당구</td>\n      <td>경기도 성남시 분당구</td>\n      <td>2016-04-01T00:00:00</td>\n      <td>경기도 성남시 분당구 분당동 샛별마을 라이프</td>\n      <td>샛별마을 라이프</td>\n    </tr>\n    <tr>\n      <th>1</th>\n      <td>46000.0</td>\n      <td>1993</td>\n      <td>2016</td>\n      <td>분당동</td>\n      <td>장안타운(건영)</td>\n      <td>4</td>\n      <td>85.00</td>\n      <td>1</td>\n      <td>경기도</td>\n      <td>성남시 분당구</td>\n      <td>경기도 성남시 분당구</td>\n      <td>2016-04-06T00:00:00</td>\n      <td>경기도 성남시 분당구 분당동 장안타운 건영</td>\n      <td>장안타운 건영</td>\n    </tr>\n    <tr>\n      <th>2</th>\n      <td>40500.0</td>\n      <td>1993</td>\n      <td>2016</td>\n      <td>분당동</td>\n      <td>장안타운(건영)</td>\n      <td>4</td>\n      <td>70.68</td>\n      <td>7</td>\n      <td>경기도</td>\n      <td>성남시 분당구</td>\n      <td>경기도 성남시 분당구</td>\n      <td>2016-04-06T00:00:00</td>\n      <td>경기도 성남시 분당구 분당동 장안타운 건영</td>\n      <td>장안타운 건영</td>\n    </tr>\n    <tr>\n      <th>3</th>\n      <td>42000.0</td>\n      <td>1992</td>\n      <td>2016</td>\n      <td>분당동</td>\n      <td>샛별마을(동성)</td>\n      <td>4</td>\n      <td>69.39</td>\n      <td>4</td>\n      <td>경기도</td>\n      <td>성남시 분당구</td>\n      <td>경기도 성남시 분당구</td>\n      <td>2016-04-07T00:00:00</td>\n      <td>경기도 성남시 분당구 분당동 샛별마을 동성</td>\n      <td>샛별마을 동성</td>\n    </tr>\n    <tr>\n      <th>4</th>\n      <td>35900.0</td>\n      <td>1992</td>\n      <td>2016</td>\n      <td>분당동</td>\n      <td>샛별마을(삼부)</td>\n      <td>4</td>\n      <td>59.82</td>\n      <td>1</td>\n      <td>경기도</td>\n      <td>성남시 분당구</td>\n      <td>경기도 성남시 분당구</td>\n      <td>2016-04-09T00:00:00</td>\n      <td>경기도 성남시 분당구 분당동 샛별마을 삼부</td>\n      <td>샛별마을 삼부</td>\n    </tr>\n    <tr>\n      <th>5</th>\n      <td>70000.0</td>\n      <td>1994</td>\n      <td>2016</td>\n      <td>분당동</td>\n      <td>샛별마을(우방)</td>\n      <td>4</td>\n      <td>133.86</td>\n      <td>12</td>\n      <td>경기도</td>\n      <td>성남시 분당구</td>\n      <td>경기도 성남시 분당구</td>\n      <td>2016-04-13T00:00:00</td>\n      <td>경기도 성남시 분당구 분당동 샛별마을 우방</td>\n      <td>샛별마을 우방</td>\n    </tr>\n    <tr>\n      <th>6</th>\n      <td>66500.0</td>\n      <td>1993</td>\n      <td>2016</td>\n      <td>분당동</td>\n      <td>샛별마을(라이프)</td>\n      <td>4</td>\n      <td>126.42</td>\n      <td>16</td>\n      <td>경기도</td>\n      <td>성남시 분당구</td>\n      <td>경기도 성남시 분당구</td>\n      <td>2016-04-13T00:00:00</td>\n      <td>경기도 성남시 분당구 분당동 샛별마을 라이프</td>\n      <td>샛별마을 라이프</td>\n    </tr>\n    <tr>\n      <th>7</th>\n      <td>39800.0</td>\n      <td>1994</td>\n      <td>2016</td>\n      <td>분당동</td>\n      <td>샛별마을(우방)</td>\n      <td>4</td>\n      <td>57.28</td>\n      <td>10</td>\n      <td>경기도</td>\n      <td>성남시 분당구</td>\n      <td>경기도 성남시 분당구</td>\n      <td>2016-04-16T00:00:00</td>\n      <td>경기도 성남시 분당구 분당동 샛별마을 우방</td>\n      <td>샛별마을 우방</td>\n    </tr>\n    <tr>\n      <th>8</th>\n      <td>56500.0</td>\n      <td>1992</td>\n      <td>2016</td>\n      <td>분당동</td>\n      <td>샛별마을(동성)</td>\n      <td>4</td>\n      <td>101.88</td>\n      <td>2</td>\n      <td>경기도</td>\n      <td>성남시 분당구</td>\n      <td>경기도 성남시 분당구</td>\n      <td>2016-04-17T00:00:00</td>\n      <td>경기도 성남시 분당구 분당동 샛별마을 동성</td>\n      <td>샛별마을 동성</td>\n    </tr>\n    <tr>\n      <th>9</th>\n      <td>38000.0</td>\n      <td>1992</td>\n      <td>2016</td>\n      <td>분당동</td>\n      <td>샛별마을(삼부)</td>\n      <td>4</td>\n      <td>59.82</td>\n      <td>2</td>\n      <td>경기도</td>\n      <td>성남시 분당구</td>\n      <td>경기도 성남시 분당구</td>\n      <td>2016-04-19T00:00:00</td>\n      <td>경기도 성남시 분당구 분당동 샛별마을 삼부</td>\n      <td>샛별마을 삼부</td>\n    </tr>\n  </tbody>\n</table>\n</div>",
      "text/plain": "   transaction_amount  year_of_construction  transaction_year legal_dong  \\\n0             52500.0                  1993              2016        분당동   \n1             46000.0                  1993              2016        분당동   \n2             40500.0                  1993              2016        분당동   \n3             42000.0                  1992              2016        분당동   \n4             35900.0                  1992              2016        분당동   \n5             70000.0                  1994              2016        분당동   \n6             66500.0                  1993              2016        분당동   \n7             39800.0                  1994              2016        분당동   \n8             56500.0                  1992              2016        분당동   \n9             38000.0                  1992              2016        분당동   \n\n    apt_name  transaction_month  dedicated_area  floor   si       gu  \\\n0  샛별마을(라이프)                  4           84.99     18  경기도  성남시 분당구   \n1   장안타운(건영)                  4           85.00      1  경기도  성남시 분당구   \n2   장안타운(건영)                  4           70.68      7  경기도  성남시 분당구   \n3   샛별마을(동성)                  4           69.39      4  경기도  성남시 분당구   \n4   샛별마을(삼부)                  4           59.82      1  경기도  성남시 분당구   \n5   샛별마을(우방)                  4          133.86     12  경기도  성남시 분당구   \n6  샛별마을(라이프)                  4          126.42     16  경기도  성남시 분당구   \n7   샛별마을(우방)                  4           57.28     10  경기도  성남시 분당구   \n8   샛별마을(동성)                  4          101.88      2  경기도  성남시 분당구   \n9   샛별마을(삼부)                  4           59.82      2  경기도  성남시 분당구   \n\n       sigungu     transaction_date               description   message  \n0  경기도 성남시 분당구  2016-04-01T00:00:00  경기도 성남시 분당구 분당동 샛별마을 라이프  샛별마을 라이프  \n1  경기도 성남시 분당구  2016-04-06T00:00:00   경기도 성남시 분당구 분당동 장안타운 건영   장안타운 건영  \n2  경기도 성남시 분당구  2016-04-06T00:00:00   경기도 성남시 분당구 분당동 장안타운 건영   장안타운 건영  \n3  경기도 성남시 분당구  2016-04-07T00:00:00   경기도 성남시 분당구 분당동 샛별마을 동성   샛별마을 동성  \n4  경기도 성남시 분당구  2016-04-09T00:00:00   경기도 성남시 분당구 분당동 샛별마을 삼부   샛별마을 삼부  \n5  경기도 성남시 분당구  2016-04-13T00:00:00   경기도 성남시 분당구 분당동 샛별마을 우방   샛별마을 우방  \n6  경기도 성남시 분당구  2016-04-13T00:00:00  경기도 성남시 분당구 분당동 샛별마을 라이프  샛별마을 라이프  \n7  경기도 성남시 분당구  2016-04-16T00:00:00   경기도 성남시 분당구 분당동 샛별마을 우방   샛별마을 우방  \n8  경기도 성남시 분당구  2016-04-17T00:00:00   경기도 성남시 분당구 분당동 샛별마을 동성   샛별마을 동성  \n9  경기도 성남시 분당구  2016-04-19T00:00:00   경기도 성남시 분당구 분당동 샛별마을 삼부   샛별마을 삼부  "
     },
     "execution_count": 15,
     "metadata": {},
     "output_type": "execute_result"
    }
   ],
   "source": [
    "df"
   ]
  },
  {
   "cell_type": "code",
   "execution_count": 17,
   "metadata": {},
   "outputs": [],
   "source": [
    "response = es.search(index='apt-trade', body={\"query\": {\"match\": {\"apt_name\": \"샛별마을(동성)\"}}})\n",
    "df = pd.DataFrame(response['hits']['hits'])\n",
    "df = df['_source'].apply(pd.Series)"
   ]
  },
  {
   "cell_type": "code",
   "execution_count": 18,
   "metadata": {},
   "outputs": [
    {
     "data": {
      "text/html": "<div>\n<style scoped>\n    .dataframe tbody tr th:only-of-type {\n        vertical-align: middle;\n    }\n\n    .dataframe tbody tr th {\n        vertical-align: top;\n    }\n\n    .dataframe thead th {\n        text-align: right;\n    }\n</style>\n<table border=\"1\" class=\"dataframe\">\n  <thead>\n    <tr style=\"text-align: right;\">\n      <th></th>\n      <th>transaction_amount</th>\n      <th>year_of_construction</th>\n      <th>transaction_year</th>\n      <th>legal_dong</th>\n      <th>apt_name</th>\n      <th>transaction_month</th>\n      <th>dedicated_area</th>\n      <th>floor</th>\n      <th>si</th>\n      <th>gu</th>\n      <th>sigungu</th>\n      <th>transaction_date</th>\n      <th>description</th>\n      <th>message</th>\n    </tr>\n  </thead>\n  <tbody>\n    <tr>\n      <th>0</th>\n      <td>42000.0</td>\n      <td>1992</td>\n      <td>2016</td>\n      <td>분당동</td>\n      <td>샛별마을(동성)</td>\n      <td>4</td>\n      <td>69.39</td>\n      <td>4</td>\n      <td>경기도</td>\n      <td>성남시 분당구</td>\n      <td>경기도 성남시 분당구</td>\n      <td>2016-04-07T00:00:00</td>\n      <td>경기도 성남시 분당구 분당동 샛별마을 동성</td>\n      <td>샛별마을 동성</td>\n    </tr>\n    <tr>\n      <th>1</th>\n      <td>56500.0</td>\n      <td>1992</td>\n      <td>2016</td>\n      <td>분당동</td>\n      <td>샛별마을(동성)</td>\n      <td>4</td>\n      <td>101.88</td>\n      <td>2</td>\n      <td>경기도</td>\n      <td>성남시 분당구</td>\n      <td>경기도 성남시 분당구</td>\n      <td>2016-04-17T00:00:00</td>\n      <td>경기도 성남시 분당구 분당동 샛별마을 동성</td>\n      <td>샛별마을 동성</td>\n    </tr>\n    <tr>\n      <th>2</th>\n      <td>50500.0</td>\n      <td>1992</td>\n      <td>2016</td>\n      <td>분당동</td>\n      <td>샛별마을(동성)</td>\n      <td>4</td>\n      <td>84.82</td>\n      <td>10</td>\n      <td>경기도</td>\n      <td>성남시 분당구</td>\n      <td>경기도 성남시 분당구</td>\n      <td>2016-04-26T00:00:00</td>\n      <td>경기도 성남시 분당구 분당동 샛별마을 동성</td>\n      <td>샛별마을 동성</td>\n    </tr>\n    <tr>\n      <th>3</th>\n      <td>69000.0</td>\n      <td>1993</td>\n      <td>2016</td>\n      <td>분당동</td>\n      <td>샛별마을(동성)</td>\n      <td>10</td>\n      <td>133.65</td>\n      <td>6</td>\n      <td>경기도</td>\n      <td>성남시 분당구</td>\n      <td>경기도 성남시 분당구</td>\n      <td>2016-10-04T00:00:00</td>\n      <td>경기도 성남시 분당구 분당동 샛별마을 동성</td>\n      <td>샛별마을 동성</td>\n    </tr>\n    <tr>\n      <th>4</th>\n      <td>34500.0</td>\n      <td>1992</td>\n      <td>2016</td>\n      <td>분당동</td>\n      <td>샛별마을(동성)</td>\n      <td>10</td>\n      <td>59.40</td>\n      <td>10</td>\n      <td>경기도</td>\n      <td>성남시 분당구</td>\n      <td>경기도 성남시 분당구</td>\n      <td>2016-10-04T00:00:00</td>\n      <td>경기도 성남시 분당구 분당동 샛별마을 동성</td>\n      <td>샛별마을 동성</td>\n    </tr>\n    <tr>\n      <th>5</th>\n      <td>56000.0</td>\n      <td>1992</td>\n      <td>2016</td>\n      <td>분당동</td>\n      <td>샛별마을(동성)</td>\n      <td>10</td>\n      <td>84.82</td>\n      <td>13</td>\n      <td>경기도</td>\n      <td>성남시 분당구</td>\n      <td>경기도 성남시 분당구</td>\n      <td>2016-10-10T00:00:00</td>\n      <td>경기도 성남시 분당구 분당동 샛별마을 동성</td>\n      <td>샛별마을 동성</td>\n    </tr>\n    <tr>\n      <th>6</th>\n      <td>74000.0</td>\n      <td>1993</td>\n      <td>2016</td>\n      <td>분당동</td>\n      <td>샛별마을(동성)</td>\n      <td>10</td>\n      <td>133.65</td>\n      <td>19</td>\n      <td>경기도</td>\n      <td>성남시 분당구</td>\n      <td>경기도 성남시 분당구</td>\n      <td>2016-10-12T00:00:00</td>\n      <td>경기도 성남시 분당구 분당동 샛별마을 동성</td>\n      <td>샛별마을 동성</td>\n    </tr>\n    <tr>\n      <th>7</th>\n      <td>72000.0</td>\n      <td>1993</td>\n      <td>2016</td>\n      <td>분당동</td>\n      <td>샛별마을(동성)</td>\n      <td>10</td>\n      <td>133.65</td>\n      <td>11</td>\n      <td>경기도</td>\n      <td>성남시 분당구</td>\n      <td>경기도 성남시 분당구</td>\n      <td>2016-10-14T00:00:00</td>\n      <td>경기도 성남시 분당구 분당동 샛별마을 동성</td>\n      <td>샛별마을 동성</td>\n    </tr>\n    <tr>\n      <th>8</th>\n      <td>52000.0</td>\n      <td>1992</td>\n      <td>2016</td>\n      <td>분당동</td>\n      <td>샛별마을(동성)</td>\n      <td>10</td>\n      <td>84.82</td>\n      <td>5</td>\n      <td>경기도</td>\n      <td>성남시 분당구</td>\n      <td>경기도 성남시 분당구</td>\n      <td>2016-10-17T00:00:00</td>\n      <td>경기도 성남시 분당구 분당동 샛별마을 동성</td>\n      <td>샛별마을 동성</td>\n    </tr>\n    <tr>\n      <th>9</th>\n      <td>52000.0</td>\n      <td>1992</td>\n      <td>2016</td>\n      <td>분당동</td>\n      <td>샛별마을(동성)</td>\n      <td>10</td>\n      <td>84.82</td>\n      <td>5</td>\n      <td>경기도</td>\n      <td>성남시 분당구</td>\n      <td>경기도 성남시 분당구</td>\n      <td>2016-10-19T00:00:00</td>\n      <td>경기도 성남시 분당구 분당동 샛별마을 동성</td>\n      <td>샛별마을 동성</td>\n    </tr>\n  </tbody>\n</table>\n</div>",
      "text/plain": "   transaction_amount  year_of_construction  transaction_year legal_dong  \\\n0             42000.0                  1992              2016        분당동   \n1             56500.0                  1992              2016        분당동   \n2             50500.0                  1992              2016        분당동   \n3             69000.0                  1993              2016        분당동   \n4             34500.0                  1992              2016        분당동   \n5             56000.0                  1992              2016        분당동   \n6             74000.0                  1993              2016        분당동   \n7             72000.0                  1993              2016        분당동   \n8             52000.0                  1992              2016        분당동   \n9             52000.0                  1992              2016        분당동   \n\n   apt_name  transaction_month  dedicated_area  floor   si       gu  \\\n0  샛별마을(동성)                  4           69.39      4  경기도  성남시 분당구   \n1  샛별마을(동성)                  4          101.88      2  경기도  성남시 분당구   \n2  샛별마을(동성)                  4           84.82     10  경기도  성남시 분당구   \n3  샛별마을(동성)                 10          133.65      6  경기도  성남시 분당구   \n4  샛별마을(동성)                 10           59.40     10  경기도  성남시 분당구   \n5  샛별마을(동성)                 10           84.82     13  경기도  성남시 분당구   \n6  샛별마을(동성)                 10          133.65     19  경기도  성남시 분당구   \n7  샛별마을(동성)                 10          133.65     11  경기도  성남시 분당구   \n8  샛별마을(동성)                 10           84.82      5  경기도  성남시 분당구   \n9  샛별마을(동성)                 10           84.82      5  경기도  성남시 분당구   \n\n       sigungu     transaction_date              description  message  \n0  경기도 성남시 분당구  2016-04-07T00:00:00  경기도 성남시 분당구 분당동 샛별마을 동성  샛별마을 동성  \n1  경기도 성남시 분당구  2016-04-17T00:00:00  경기도 성남시 분당구 분당동 샛별마을 동성  샛별마을 동성  \n2  경기도 성남시 분당구  2016-04-26T00:00:00  경기도 성남시 분당구 분당동 샛별마을 동성  샛별마을 동성  \n3  경기도 성남시 분당구  2016-10-04T00:00:00  경기도 성남시 분당구 분당동 샛별마을 동성  샛별마을 동성  \n4  경기도 성남시 분당구  2016-10-04T00:00:00  경기도 성남시 분당구 분당동 샛별마을 동성  샛별마을 동성  \n5  경기도 성남시 분당구  2016-10-10T00:00:00  경기도 성남시 분당구 분당동 샛별마을 동성  샛별마을 동성  \n6  경기도 성남시 분당구  2016-10-12T00:00:00  경기도 성남시 분당구 분당동 샛별마을 동성  샛별마을 동성  \n7  경기도 성남시 분당구  2016-10-14T00:00:00  경기도 성남시 분당구 분당동 샛별마을 동성  샛별마을 동성  \n8  경기도 성남시 분당구  2016-10-17T00:00:00  경기도 성남시 분당구 분당동 샛별마을 동성  샛별마을 동성  \n9  경기도 성남시 분당구  2016-10-19T00:00:00  경기도 성남시 분당구 분당동 샛별마을 동성  샛별마을 동성  "
     },
     "execution_count": 18,
     "metadata": {},
     "output_type": "execute_result"
    }
   ],
   "source": [
    "df"
   ]
  },
  {
   "cell_type": "markdown",
   "metadata": {},
   "source": [
    "# 아파트 리스트 가져오기"
   ]
  },
  {
   "cell_type": "code",
   "execution_count": 5,
   "metadata": {},
   "outputs": [],
   "source": [
    "response = es.search(index='apt-trade', body={'aggs': {'apts': {'terms': {'field': 'apt_name', 'size': 9999999}}}, 'size': 0})"
   ]
  },
  {
   "cell_type": "code",
   "execution_count": 17,
   "metadata": {},
   "outputs": [],
   "source": [
    "df = pd.DataFrame(response['aggregations']['apts']['buckets'])\n",
    "df = df.rename(columns={'key':'apt_name'})"
   ]
  },
  {
   "cell_type": "code",
   "execution_count": 18,
   "metadata": {},
   "outputs": [
    {
     "data": {
      "text/html": "<div>\n<style scoped>\n    .dataframe tbody tr th:only-of-type {\n        vertical-align: middle;\n    }\n\n    .dataframe tbody tr th {\n        vertical-align: top;\n    }\n\n    .dataframe thead th {\n        text-align: right;\n    }\n</style>\n<table border=\"1\" class=\"dataframe\">\n  <thead>\n    <tr style=\"text-align: right;\">\n      <th></th>\n      <th>apt_name</th>\n      <th>doc_count</th>\n    </tr>\n  </thead>\n  <tbody>\n    <tr>\n      <th>0</th>\n      <td>한솔마을(4단지)(주공)</td>\n      <td>2402</td>\n    </tr>\n    <tr>\n      <th>1</th>\n      <td>시범한양</td>\n      <td>2277</td>\n    </tr>\n    <tr>\n      <th>2</th>\n      <td>장미마을(현대)</td>\n      <td>1789</td>\n    </tr>\n    <tr>\n      <th>3</th>\n      <td>시범우성</td>\n      <td>1682</td>\n    </tr>\n    <tr>\n      <th>4</th>\n      <td>한솔마을(5단지)(주공)</td>\n      <td>1588</td>\n    </tr>\n    <tr>\n      <th>...</th>\n      <td>...</td>\n      <td>...</td>\n    </tr>\n    <tr>\n      <th>185</th>\n      <td>산운마을9단지(대방노블랜드)</td>\n      <td>16</td>\n    </tr>\n    <tr>\n      <th>186</th>\n      <td>산운마을11단지(주공)임대전환</td>\n      <td>15</td>\n    </tr>\n    <tr>\n      <th>187</th>\n      <td>산운마을12단지(주공)임대전환</td>\n      <td>6</td>\n    </tr>\n    <tr>\n      <th>188</th>\n      <td>서울시니어스분당타워</td>\n      <td>2</td>\n    </tr>\n    <tr>\n      <th>189</th>\n      <td>판교원마을12단지(휴먼시아)임대</td>\n      <td>1</td>\n    </tr>\n  </tbody>\n</table>\n<p>190 rows × 2 columns</p>\n</div>",
      "text/plain": "              apt_name  doc_count\n0        한솔마을(4단지)(주공)       2402\n1                 시범한양       2277\n2             장미마을(현대)       1789\n3                 시범우성       1682\n4        한솔마을(5단지)(주공)       1588\n..                 ...        ...\n185    산운마을9단지(대방노블랜드)         16\n186   산운마을11단지(주공)임대전환         15\n187   산운마을12단지(주공)임대전환          6\n188         서울시니어스분당타워          2\n189  판교원마을12단지(휴먼시아)임대          1\n\n[190 rows x 2 columns]"
     },
     "execution_count": 18,
     "metadata": {},
     "output_type": "execute_result"
    }
   ],
   "source": [
    "df"
   ]
  },
  {
   "cell_type": "code",
   "execution_count": null,
   "metadata": {},
   "outputs": [],
   "source": []
  }
 ]
}