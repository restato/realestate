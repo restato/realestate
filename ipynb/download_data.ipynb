{
 "nbformat": 4,
 "nbformat_minor": 2,
 "metadata": {
  "language_info": {
   "name": "python",
   "codemirror_mode": {
    "name": "ipython",
    "version": 3
   },
   "version": "3.7.3-final"
  },
  "orig_nbformat": 2,
  "file_extension": ".py",
  "mimetype": "text/x-python",
  "name": "python",
  "npconvert_exporter": "python",
  "pygments_lexer": "ipython3",
  "version": 3,
  "kernelspec": {
   "name": "python37364bitvenvvenv10d8877c1e4740aa9cab0901ac758ed0",
   "display_name": "Python 3.7.3 64-bit ('venv': venv)"
  }
 },
 "cells": [
  {
   "cell_type": "code",
   "execution_count": 1,
   "metadata": {},
   "outputs": [
    {
     "name": "stdout",
     "output_type": "stream",
     "text": "zsh:1: command not found: wget\n"
    }
   ],
   "source": [
    "!wget http://192.168.0.56:8889/41135.tar ../data_in/"
   ]
  },
  {
   "cell_type": "code",
   "execution_count": 7,
   "metadata": {},
   "outputs": [
    {
     "name": "stdout",
     "output_type": "stream",
     "text": "x data/preprocessed/apt-trade/41135/\nx data/preprocessed/apt-trade/41135/201712.csv\nx data/preprocessed/apt-trade/41135/201206.csv\nx data/preprocessed/apt-trade/41135/201107.csv\nx data/preprocessed/apt-trade/41135/201104.csv\nx data/preprocessed/apt-trade/41135/200609.csv\nx data/preprocessed/apt-trade/41135/200906.csv\nx data/preprocessed/apt-trade/41135/201911.csv\nx data/preprocessed/apt-trade/41135/201608.csv\nx data/preprocessed/apt-trade/41135/201004.csv\nx data/preprocessed/apt-trade/41135/201002.csv\nx data/preprocessed/apt-trade/41135/200809.csv\nx data/preprocessed/apt-trade/41135/201101.csv\nx data/preprocessed/apt-trade/41135/201009.csv\nx data/preprocessed/apt-trade/41135/201207.csv\nx data/preprocessed/apt-trade/41135/201406.csv\nx data/preprocessed/apt-trade/41135/201403.csv\nx data/preprocessed/apt-trade/41135/200711.csv\nx data/preprocessed/apt-trade/41135/201411.csv\nx data/preprocessed/apt-trade/41135/201607.csv\nx data/preprocessed/apt-trade/41135/201110.csv\nx data/preprocessed/apt-trade/41135/201311.csv\nx data/preprocessed/apt-trade/41135/200909.csv\nx data/preprocessed/apt-trade/41135/200605.csv\nx data/preprocessed/apt-trade/41135/201806.csv\nx data/preprocessed/apt-trade/41135/201509.csv\nx data/preprocessed/apt-trade/41135/200603.csv\nx data/preprocessed/apt-trade/41135/201003.csv\nx data/preprocessed/apt-trade/41135/200604.csv\nx data/preprocessed/apt-trade/41135/201302.csv\nx data/preprocessed/apt-trade/41135/201902.csv\nx data/preprocessed/apt-trade/41135/200811.csv\nx data/preprocessed/apt-trade/41135/202007.csv\nx data/preprocessed/apt-trade/41135/201611.csv\nx data/preprocessed/apt-trade/41135/201305.csv\nx data/preprocessed/apt-trade/41135/201609.csv\nx data/preprocessed/apt-trade/41135/200610.csv\nx data/preprocessed/apt-trade/41135/201111.csv\nx data/preprocessed/apt-trade/41135/200601.csv\nx data/preprocessed/apt-trade/41135/201809.csv\nx data/preprocessed/apt-trade/41135/200607.csv\nx data/preprocessed/apt-trade/41135/201404.csv\nx data/preprocessed/apt-trade/41135/201710.csv\nx data/preprocessed/apt-trade/41135/201603.csv\nx data/preprocessed/apt-trade/41135/201811.csv\nx data/preprocessed/apt-trade/41135/201201.csv\nx data/preprocessed/apt-trade/41135/200807.csv\nx data/preprocessed/apt-trade/41135/201204.csv\nx data/preprocessed/apt-trade/41135/200903.csv\nx data/preprocessed/apt-trade/41135/201904.csv\nx data/preprocessed/apt-trade/41135/201309.csv\nx data/preprocessed/apt-trade/41135/201307.csv\nx data/preprocessed/apt-trade/41135/200908.csv\nx data/preprocessed/apt-trade/41135/201707.csv\nx data/preprocessed/apt-trade/41135/201409.csv\nx data/preprocessed/apt-trade/41135/202002.csv\nx data/preprocessed/apt-trade/41135/200806.csv\nx data/preprocessed/apt-trade/41135/201109.csv\nx data/preprocessed/apt-trade/41135/200804.csv\nx data/preprocessed/apt-trade/41135/200702.csv\nx data/preprocessed/apt-trade/41135/201408.csv\nx data/preprocessed/apt-trade/41135/201006.csv\nx data/preprocessed/apt-trade/41135/200704.csv\nx data/preprocessed/apt-trade/41135/201106.csv\nx data/preprocessed/apt-trade/41135/201211.csv\nx data/preprocessed/apt-trade/41135/201209.csv\nx data/preprocessed/apt-trade/41135/201704.csv\nx data/preprocessed/apt-trade/41135/201903.csv\nx data/preprocessed/apt-trade/41135/200701.csv\nx data/preprocessed/apt-trade/41135/202008.csv\nx data/preprocessed/apt-trade/41135/201702.csv\nx data/preprocessed/apt-trade/41135/201708.csv\nx data/preprocessed/apt-trade/41135/201405.csv\nx data/preprocessed/apt-trade/41135/200812.csv\nx data/preprocessed/apt-trade/41135/201512.csv\nx data/preprocessed/apt-trade/41135/201610.csv\nx data/preprocessed/apt-trade/41135/201807.csv\nx data/preprocessed/apt-trade/41135/202009.csv\nx data/preprocessed/apt-trade/41135/200712.csv\nx data/preprocessed/apt-trade/41135/201506.csv\nx data/preprocessed/apt-trade/41135/201909.csv\nx data/preprocessed/apt-trade/41135/201701.csv\nx data/preprocessed/apt-trade/41135/201711.csv\nx data/preprocessed/apt-trade/41135/200602.csv\nx data/preprocessed/apt-trade/41135/201604.csv\nx data/preprocessed/apt-trade/41135/200611.csv\nx data/preprocessed/apt-trade/41135/201208.csv\nx data/preprocessed/apt-trade/41135/201210.csv\nx data/preprocessed/apt-trade/41135/200803.csv\nx data/preprocessed/apt-trade/41135/201910.csv\nx data/preprocessed/apt-trade/41135/201612.csv\nx data/preprocessed/apt-trade/41135/201808.csv\nx data/preprocessed/apt-trade/41135/201812.csv\nx data/preprocessed/apt-trade/41135/201709.csv\nx data/preprocessed/apt-trade/41135/201005.csv\nx data/preprocessed/apt-trade/41135/201802.csv\nx data/preprocessed/apt-trade/41135/201601.csv\nx data/preprocessed/apt-trade/41135/202102.csv\nx data/preprocessed/apt-trade/41135/200703.csv\nx data/preprocessed/apt-trade/41135/202001.csv\nx data/preprocessed/apt-trade/41135/201912.csv\nx data/preprocessed/apt-trade/41135/202101.csv\nx data/preprocessed/apt-trade/41135/201810.csv\nx data/preprocessed/apt-trade/41135/201202.csv\nx data/preprocessed/apt-trade/41135/201007.csv\nx data/preprocessed/apt-trade/41135/200810.csv\nx data/preprocessed/apt-trade/41135/201508.csv\nx data/preprocessed/apt-trade/41135/201507.csv\nx data/preprocessed/apt-trade/41135/201703.csv\nx data/preprocessed/apt-trade/41135/201205.csv\nx data/preprocessed/apt-trade/41135/201112.csv\nx data/preprocessed/apt-trade/41135/201010.csv\nx data/preprocessed/apt-trade/41135/201501.csv\nx data/preprocessed/apt-trade/41135/201510.csv\nx data/preprocessed/apt-trade/41135/201303.csv\nx data/preprocessed/apt-trade/41135/201511.csv\nx data/preprocessed/apt-trade/41135/201410.csv\nx data/preprocessed/apt-trade/41135/201108.csv\nx data/preprocessed/apt-trade/41135/200710.csv\nx data/preprocessed/apt-trade/41135/200801.csv\nx data/preprocessed/apt-trade/41135/201905.csv\nx data/preprocessed/apt-trade/41135/201001.csv\nx data/preprocessed/apt-trade/41135/201505.csv\nx data/preprocessed/apt-trade/41135/200606.csv\nx data/preprocessed/apt-trade/41135/201203.csv\nx data/preprocessed/apt-trade/41135/201011.csv\nx data/preprocessed/apt-trade/41135/201705.csv\nx data/preprocessed/apt-trade/41135/200808.csv\nx data/preprocessed/apt-trade/41135/201706.csv\nx data/preprocessed/apt-trade/41135/201412.csv\nx data/preprocessed/apt-trade/41135/200904.csv\nx data/preprocessed/apt-trade/41135/201301.csv\nx data/preprocessed/apt-trade/41135/201102.csv\nx data/preprocessed/apt-trade/41135/202012.csv\nx data/preprocessed/apt-trade/41135/201304.csv\nx data/preprocessed/apt-trade/41135/200708.csv\nx data/preprocessed/apt-trade/41135/201402.csv\nx data/preprocessed/apt-trade/41135/200911.csv\nx data/preprocessed/apt-trade/41135/200901.csv\nx data/preprocessed/apt-trade/41135/201310.csv\nx data/preprocessed/apt-trade/41135/201312.csv\nx data/preprocessed/apt-trade/41135/200706.csv\nx data/preprocessed/apt-trade/41135/202011.csv\nx data/preprocessed/apt-trade/41135/200802.csv\nx data/preprocessed/apt-trade/41135/200612.csv\nx data/preprocessed/apt-trade/41135/202005.csv\nx data/preprocessed/apt-trade/41135/201803.csv\nx data/preprocessed/apt-trade/41135/201105.csv\nx data/preprocessed/apt-trade/41135/201401.csv\nx data/preprocessed/apt-trade/41135/200608.csv\nx data/preprocessed/apt-trade/41135/200709.csv\nx data/preprocessed/apt-trade/41135/200707.csv\nx data/preprocessed/apt-trade/41135/201504.csv\nx data/preprocessed/apt-trade/41135/201008.csv\nx data/preprocessed/apt-trade/41135/201012.csv\nx data/preprocessed/apt-trade/41135/201804.csv\nx data/preprocessed/apt-trade/41135/200905.csv\nx data/preprocessed/apt-trade/41135/202010.csv\nx data/preprocessed/apt-trade/41135/201907.csv\nx data/preprocessed/apt-trade/41135/200912.csv\nx data/preprocessed/apt-trade/41135/202006.csv\nx data/preprocessed/apt-trade/41135/200705.csv\nx data/preprocessed/apt-trade/41135/200907.csv\nx data/preprocessed/apt-trade/41135/202003.csv\nx data/preprocessed/apt-trade/41135/201503.csv\nx data/preprocessed/apt-trade/41135/201306.csv\nx data/preprocessed/apt-trade/41135/201212.csv\nx data/preprocessed/apt-trade/41135/201805.csv\nx data/preprocessed/apt-trade/41135/201901.csv\nx data/preprocessed/apt-trade/41135/201103.csv\nx data/preprocessed/apt-trade/41135/201407.csv\nx data/preprocessed/apt-trade/41135/201502.csv\nx data/preprocessed/apt-trade/41135/201602.csv\nx data/preprocessed/apt-trade/41135/200910.csv\nx data/preprocessed/apt-trade/41135/201801.csv\nx data/preprocessed/apt-trade/41135/202004.csv\nx data/preprocessed/apt-trade/41135/201308.csv\nx data/preprocessed/apt-trade/41135/201606.csv\nx data/preprocessed/apt-trade/41135/201906.csv\nx data/preprocessed/apt-trade/41135/200902.csv\nx data/preprocessed/apt-trade/41135/200805.csv\nx data/preprocessed/apt-trade/41135/201908.csv\nx data/preprocessed/apt-trade/41135/201605.csv\n"
    }
   ],
   "source": [
    "!tar -xvf ../data_in/41135.tar"
   ]
  },
  {
   "cell_type": "code",
   "execution_count": null,
   "metadata": {},
   "outputs": [],
   "source": []
  }
 ]
}