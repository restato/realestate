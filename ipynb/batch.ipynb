{
 "nbformat": 4,
 "nbformat_minor": 2,
 "metadata": {
  "language_info": {
   "name": "python",
   "codemirror_mode": {
    "name": "ipython",
    "version": 3
   },
   "version": "3.7.3-final"
  },
  "orig_nbformat": 2,
  "file_extension": ".py",
  "mimetype": "text/x-python",
  "name": "python",
  "npconvert_exporter": "python",
  "pygments_lexer": "ipython3",
  "version": 3,
  "kernelspec": {
   "name": "python37364bitda77c6fcc1614c8ea88f925d6dabbd4e",
   "display_name": "Python 3.7.3 64-bit"
  }
 },
 "cells": [
  {
   "cell_type": "code",
   "execution_count": 66,
   "metadata": {},
   "outputs": [],
   "source": [
    "# encoding: utf8\n",
    "from __future__ import print_function\n",
    "import multiprocessing\n",
    "from joblib import Parallel, delayed\n",
    "\n",
    "import argparse\n",
    "import tqdm\n",
    "import os\n",
    "import glob\n",
    "import pandas as pd\n",
    "\n",
    "# trade\n",
    "# area_code,transaction_amount,year_of_construction,transaction_year,legal_dong,apt_name,transaction_month,transaction_day,dedicated_area,jibun,floor,해제사유발생일,해제여부,si,gu,sigungu,area,dedicated_area_level,amount_per_area,transaction_date,description\n",
    "# rent\n",
    "# area_code,year_of_construction,transaction_year,legal_dong,deposit,apt_name,transaction_month,monthly_rent,transaction_day,dedicated_area,jibun,floor,si,gu,sigungu,sale_type,transaction_amount,area,dedicated_area_level,amount_per_area,transaction_date,description\n",
    "COLS = {}\n",
    "COLS['apt-trade'] = ['si', 'gu', 'sigungu', 'legal_dong', 'apt_name', 'transaction_amount', 'transaction_date', 'description',\n",
    "                     'transaction_year', 'transaction_month', 'floor', 'dedicated_area', 'year_of_construction']\n",
    "COLS['apt-rent'] = ['si', 'gu', 'sigungu', 'legal_dong', 'apt_name', 'transaction_amount', 'transaction_date',\n",
    "                    'transaction_year', 'transaction_month', 'floor', 'dedicated_area', 'monthly_rent', 'deposit']\n",
    "\n",
    "\n",
    "def preprocessing(df: pd.DataFrame) -> pd.DataFrame:\n",
    "    # preprocessing\n",
    "    df['transaction_amount'] = df['transaction_amount'].astype(float)\n",
    "    # df['transaction_amount'] = df['transaction_amount'].astype(\n",
    "    # float).apply(lambda x: round(x / 10000, 2))\n",
    "    # 2016-05-26 0:00:00\n",
    "    df['transaction_date'] = pd.to_datetime(\n",
    "        df['transaction_date'], format=\"%Y-%m-%d %H:%M:%S\").dt.date\n",
    "    df['transaction_year'] = df['transaction_year'].astype(object)\n",
    "    df['transaction_month'] = df['transaction_month'].astype(object)\n",
    "    df['year_of_construction'] = df['year_of_construction'].astype(int)\n",
    "    df['floor'] = df['floor'].astype(int)\n",
    "    df['dedicated_area'] = df['dedicated_area'].astype(float)\n",
    "\n",
    "    if 'monthly_rent' in df.columns:\n",
    "        df['monthly_rent'] = df['monthly_rent'].astype(int)\n",
    "    return df\n",
    " \n",
    "\n",
    "def tempFunc(df: pd.DataFrame) -> pd.DataFrame:\n",
    "    df['mean_transaction_amount'] = df['transaction_amount'].mean()\n",
    "    return df\n",
    "\n",
    "\n",
    "def applyParallel(dfGrouped, func):\n",
    "    retLst = Parallel(n_jobs=multiprocessing.cpu_count())(\n",
    "        delayed(func)(group) for name, group in dfGrouped)\n",
    "    return pd.concat(retLst)\n",
    "\n",
    "\n",
    "def transaction_amount_year(df: pd.DataFrame) -> pd.DataFrame:\n",
    "    df = df.set_index('apt_name')\n",
    "    print(len(df))\n",
    "    frames = []\n",
    "    print(f' apt counts : {len(df.index)}')\n",
    "    apt_names = df.index[:10]\n",
    "    for apt_name in tqdm.tqdm(apt_names):\n",
    "        data = df.loc[[apt_name]]\n",
    "        # data = applyParallel(\n",
    "        # data[['transaction_amount']].groupby(data.index), tempFunc)\n",
    "        data = data[['transaction_year', 'transaction_amount']\n",
    "                    ].groupby(data.index).mean()\n",
    "        data = data.reset_index()\n",
    "        frames.append(data)\n",
    "    result_df = pd.concat(frames, axis=0)\n",
    "    return result_df"
   ]
  },
  {
   "cell_type": "code",
   "execution_count": 25,
   "metadata": {},
   "outputs": [],
   "source": [
    "area_code_dirs = list(filter(lambda x: 'tar' not in x, glob.glob(os.path.join('../data_in','*'))))"
   ]
  },
  {
   "cell_type": "code",
   "execution_count": 28,
   "metadata": {},
   "outputs": [
    {
     "data": {
      "text/plain": "['../data_in/41135']"
     },
     "execution_count": 28,
     "metadata": {},
     "output_type": "execute_result"
    }
   ],
   "source": [
    "area_code_dirs"
   ]
  },
  {
   "cell_type": "code",
   "execution_count": 67,
   "metadata": {},
   "outputs": [],
   "source": [
    "def transaction_amount_year(df: pd.DataFrame) -> pd.DataFrame:\n",
    "    df = df.set_index('apt_name')\n",
    "    print(len(df))\n",
    "    frames = []\n",
    "    print(f' apt counts : {len(df.index)}')\n",
    "    apt_names = df.index[:10]\n",
    "    # apt_names = df.index\n",
    "    for apt_name in tqdm.tqdm(apt_names):\n",
    "        data = df.loc[[apt_name]]\n",
    "        # data = applyParallel(\n",
    "        # data[['transaction_amount']].groupby(data.index), tempFunc)\n",
    "        data = data[['transaction_year', 'transaction_amount']\n",
    "                    ].groupby(data.index).mean()\n",
    "        print(data)\n",
    "        data = data.reset_index()\n",
    "        frames.append(data)\n",
    "        # print(data)\n",
    "    result_df = pd.concat(frames, axis=0)\n",
    "    return result_df"
   ]
  },
  {
   "cell_type": "code",
   "execution_count": null,
   "metadata": {},
   "outputs": [],
   "source": [
    "trade_type = 'apt-trade'\n",
    "for area_code_dir in area_code_dirs: #tqdm.tqdm(area_code_dirs): \n",
    "    area_code = area_code_dir.split('/')[-1]\n",
    "    print(area_code_dir)\n",
    "    filelist = glob.glob(os.path.join(area_code_dir, '*.csv'))\n",
    "    frames = []\n",
    "    print(filelist[:1])\n",
    "    for filepath in tqdm.tqdm(filelist):\n",
    "        frame = pd.read_csv(filepath, usecols=COLS[trade_type])\n",
    "        frames.append(frame)\n",
    "    df = pd.concat(frames, axis=0)\n",
    "    df = preprocessing(df)\n",
    "    df = price_dedicatedarea_floor(df)\n",
    "    df.to_csv(f'../data_out/price_dedicatedarea_floor/41135.csv', index=False)"
   ]
  },
  {
   "cell_type": "markdown",
   "metadata": {},
   "source": [
    "\n",
    "# 연도별 평균 거래 금액"
   ]
  },
  {
   "cell_type": "code",
   "execution_count": 113,
   "metadata": {},
   "outputs": [],
   "source": [
    "def transaction_amount_year(df: pd.DataFrame) -> pd.DataFrame:\n",
    "    df = df.set_index('apt_name')\n",
    "    print(len(df))\n",
    "    frames = []\n",
    "    print(f'apt counts : {len(df.index)}')\n",
    "    apt_names = df.index\n",
    "    # apt_names = df.index\n",
    "    for apt_name in tqdm.tqdm(apt_names):\n",
    "        data = df.loc[[apt_name]].reset_index()\n",
    "        # data = applyParallel(\n",
    "        # data[['transaction_amount']].groupby(data.index), tempFunc)\n",
    "        data = data[['apt_name','transaction_year', 'transaction_amount']\n",
    "                    ].groupby(['apt_name','transaction_year']).mean()\n",
    "        data = data.reset_index()\n",
    "        data['transaction_amount'] = data['transaction_amount'].apply(lambda x: round(x / 10000,1))\n",
    "        frames.append(data)\n",
    "        # print(data)\n",
    "    result_df = pd.concat(frames, axis=0)\n",
    "    return result_df"
   ]
  },
  {
   "cell_type": "code",
   "execution_count": 114,
   "metadata": {},
   "outputs": [
    {
     "name": "stderr",
     "output_type": "stream",
     "text": "3%|▎         | 20/609 [00:00<00:02, 197.16it/s]609\napt counts : 609\n100%|██████████| 609/609 [00:02<00:00, 214.46it/s]\n"
    },
    {
     "data": {
      "text/html": "<div>\n<style scoped>\n    .dataframe tbody tr th:only-of-type {\n        vertical-align: middle;\n    }\n\n    .dataframe tbody tr th {\n        vertical-align: top;\n    }\n\n    .dataframe thead th {\n        text-align: right;\n    }\n</style>\n<table border=\"1\" class=\"dataframe\">\n  <thead>\n    <tr style=\"text-align: right;\">\n      <th></th>\n      <th>apt_name</th>\n      <th>transaction_year</th>\n      <th>transaction_amount</th>\n    </tr>\n  </thead>\n  <tbody>\n    <tr>\n      <th>0</th>\n      <td>샛별마을(라이프)</td>\n      <td>2016</td>\n      <td>6.0</td>\n    </tr>\n    <tr>\n      <th>0</th>\n      <td>장안타운(건영)</td>\n      <td>2016</td>\n      <td>4.7</td>\n    </tr>\n    <tr>\n      <th>0</th>\n      <td>장안타운(건영)</td>\n      <td>2016</td>\n      <td>4.7</td>\n    </tr>\n    <tr>\n      <th>0</th>\n      <td>샛별마을(동성)</td>\n      <td>2016</td>\n      <td>5.0</td>\n    </tr>\n    <tr>\n      <th>0</th>\n      <td>샛별마을(삼부)</td>\n      <td>2016</td>\n      <td>4.1</td>\n    </tr>\n    <tr>\n      <th>...</th>\n      <td>...</td>\n      <td>...</td>\n      <td>...</td>\n    </tr>\n    <tr>\n      <th>0</th>\n      <td>산운마을14단지(경남아너스빌)</td>\n      <td>2016</td>\n      <td>8.0</td>\n    </tr>\n    <tr>\n      <th>0</th>\n      <td>산운마을5단지(한성필하우스)</td>\n      <td>2016</td>\n      <td>6.4</td>\n    </tr>\n    <tr>\n      <th>0</th>\n      <td>산운마을6단지(주공휴먼시아)</td>\n      <td>2016</td>\n      <td>7.7</td>\n    </tr>\n    <tr>\n      <th>0</th>\n      <td>산운마을6단지(주공휴먼시아)</td>\n      <td>2016</td>\n      <td>7.7</td>\n    </tr>\n    <tr>\n      <th>0</th>\n      <td>산운마을13단지(태영)일부임대</td>\n      <td>2016</td>\n      <td>6.6</td>\n    </tr>\n  </tbody>\n</table>\n<p>609 rows × 3 columns</p>\n</div>",
      "text/plain": "            apt_name  transaction_year  transaction_amount\n0          샛별마을(라이프)              2016                 6.0\n0           장안타운(건영)              2016                 4.7\n0           장안타운(건영)              2016                 4.7\n0           샛별마을(동성)              2016                 5.0\n0           샛별마을(삼부)              2016                 4.1\n..               ...               ...                 ...\n0   산운마을14단지(경남아너스빌)              2016                 8.0\n0    산운마을5단지(한성필하우스)              2016                 6.4\n0    산운마을6단지(주공휴먼시아)              2016                 7.7\n0    산운마을6단지(주공휴먼시아)              2016                 7.7\n0   산운마을13단지(태영)일부임대              2016                 6.6\n\n[609 rows x 3 columns]"
     },
     "execution_count": 114,
     "metadata": {},
     "output_type": "execute_result"
    }
   ],
   "source": [
    "df = pd.read_csv('../data_in/41135/201604.csv', usecols=COLS[trade_type])\n",
    "df = preprocessing(df)\n",
    "transaction_amount_year(df)"
   ]
  },
  {
   "cell_type": "code",
   "execution_count": 115,
   "metadata": {},
   "outputs": [
    {
     "name": "stderr",
     "output_type": "stream",
     "text": "10%|█         | 19/182 [00:00<00:00, 183.12it/s]../data_in/41135\n['../data_in/41135/201604.csv']\n100%|██████████| 182/182 [00:00<00:00, 201.70it/s]\n  0%|          | 24/91030 [00:00<12:32, 120.87it/s]91030\napt counts : 91030\n 65%|██████▌   | 59602/91030 [07:22<04:05, 128.19it/s]"
    }
   ],
   "source": [
    "trade_type = 'apt-trade'\n",
    "for area_code_dir in area_code_dirs: #tqdm.tqdm(area_code_dirs): \n",
    "    area_code = area_code_dir.split('/')[-1]\n",
    "    print(area_code_dir)\n",
    "    filelist = glob.glob(os.path.join(area_code_dir, '*.csv'))\n",
    "    frames = []\n",
    "    print(filelist[:1])\n",
    "    for filepath in tqdm.tqdm(filelist):\n",
    "        frame = pd.read_csv(filepath, usecols=COLS[trade_type])\n",
    "        frames.append(frame)\n",
    "    df = pd.concat(frames, axis=0)\n",
    "    df = preprocessing(df)\n",
    "    # df = price_dedicatedarea_floor(df)\n",
    "    df = transaction_amount_year(df)\n",
    "    # print(df.head(3))\n",
    "    # print(len(df))\n",
    "    df.to_csv(f'../data_out/apt_amount_per_year/41135.csv', index=False)\n",
    "    # print('done')"
   ]
  },
  {
   "cell_type": "code",
   "execution_count": null,
   "metadata": {},
   "outputs": [],
   "source": []
  }
 ]
}