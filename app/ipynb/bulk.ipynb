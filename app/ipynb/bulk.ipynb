{
 "nbformat": 4,
 "nbformat_minor": 2,
 "metadata": {
  "language_info": {
   "name": "python",
   "codemirror_mode": {
    "name": "ipython",
    "version": 3
   },
   "version": "3.7.3-final"
  },
  "orig_nbformat": 2,
  "file_extension": ".py",
  "mimetype": "text/x-python",
  "name": "python",
  "npconvert_exporter": "python",
  "pygments_lexer": "ipython3",
  "version": 3,
  "kernelspec": {
   "name": "python37364bitda77c6fcc1614c8ea88f925d6dabbd4e",
   "display_name": "Python 3.7.3 64-bit"
  }
 },
 "cells": [
  {
   "cell_type": "code",
   "execution_count": 13,
   "metadata": {},
   "outputs": [
    {
     "data": {
      "text/plain": "{'cluster_name': 'elasticsearch',\n 'status': 'yellow',\n 'timed_out': False,\n 'number_of_nodes': 1,\n 'number_of_data_nodes': 1,\n 'active_primary_shards': 3,\n 'active_shards': 3,\n 'relocating_shards': 0,\n 'initializing_shards': 0,\n 'unassigned_shards': 3,\n 'delayed_unassigned_shards': 0,\n 'number_of_pending_tasks': 0,\n 'number_of_in_flight_fetch': 0,\n 'task_max_waiting_in_queue_millis': 0,\n 'active_shards_percent_as_number': 50.0}"
     },
     "execution_count": 13,
     "metadata": {},
     "output_type": "execute_result"
    }
   ],
   "source": [
    "#-*- coding: utf-8 -*-\n",
    "from elasticsearch import Elasticsearch,JSONSerializer, helpers\n",
    "import numpy as np\n",
    "import json\n",
    "\n",
    "# https://github.com/elastic/elasticsearch-py/issues/378\n",
    "class NumpyEncoder(JSONSerializer):\n",
    "    \"\"\" Special json encoder for numpy types \"\"\"\n",
    "    def default(self, obj):\n",
    "        if isinstance(obj, (np.int_, np.intc, np.intp, np.int8,\n",
    "            np.int16, np.int32, np.int64, np.uint8,\n",
    "            np.uint16, np.uint32, np.uint64)):\n",
    "            return int(obj)\n",
    "        elif isinstance(obj, (np.float_, np.float16, np.float32, \n",
    "            np.float64)):\n",
    "            return float(obj)\n",
    "        elif isinstance(obj,(np.ndarray,)): #### This is the fix\n",
    "            return obj.tolist()\n",
    "        return JSONSerializer.default(self, obj)\n",
    "        \n",
    "es = Elasticsearch(hosts=\"122.32.196.201:9200\", port=9200, serializer=NumpyEncoder())  # 객체 생성\n",
    "\n",
    "# Es Cluster Health Check\n",
    "es.cluster.health() "
   ]
  },
  {
   "cell_type": "code",
   "execution_count": 53,
   "metadata": {},
   "outputs": [],
   "source": [
    "# encoding: utf8\n",
    "from __future__ import print_function\n",
    "import multiprocessing\n",
    "from joblib import Parallel, delayed\n",
    "\n",
    "import argparse\n",
    "import tqdm\n",
    "import os\n",
    "import glob\n",
    "import re\n",
    "import pandas as pd\n",
    " \n",
    "COLS = {}\n",
    "COLS['apt-trade'] = ['si', 'gu', 'sigungu', 'legal_dong', 'apt_name', 'transaction_amount', 'transaction_date', 'description',\n",
    "                     'transaction_year', 'transaction_month', 'floor', 'dedicated_area', 'year_of_construction']\n",
    "COLS['apt-rent'] = ['si', 'gu', 'sigungu', 'legal_dong', 'apt_name', 'transaction_amount', 'transaction_date',\n",
    "                    'transaction_year', 'transaction_month', 'floor', 'dedicated_area', 'monthly_rent', 'deposit']\n",
    "\n",
    "\n",
    "def preprocessing(df: pd.DataFrame) -> pd.DataFrame:\n",
    "    # preprocessing\n",
    "    df['transaction_amount'] = df['transaction_amount'].astype(float)\n",
    "    # df['transaction_amount'] = df['transaction_amount'].astype(\n",
    "    # float).apply(lambda x: round(x / 10000, 2))\n",
    "    # 2016-05-26 0:00:00 \n",
    "\n",
    "    df['message'] = df['apt_name'].apply(lambda x: ' '.join(re.compile('[가-힣0-9]+').findall(x)))\n",
    "    df['transaction_date'] = pd.to_datetime(\n",
    "        df['transaction_date'], format=\"%Y-%m-%d %H:%M:%S\") # .dt.date \n",
    "    df['transaction_year'] = df['transaction_year'].astype(object)\n",
    "    df['transaction_month'] = df['transaction_month'].astype(object)\n",
    "    df['year_of_construction'] = df['year_of_construction'].astype(int)\n",
    "    df['floor'] = df['floor'].astype(int)\n",
    "    df['dedicated_area'] = df['dedicated_area'].astype(float)\n",
    "\n",
    "    if 'monthly_rent' in df.columns:\n",
    "        df['monthly_rent'] = df['monthly_rent'].astype(int)\n",
    "    return df"
   ]
  },
  {
   "cell_type": "code",
   "execution_count": 54,
   "metadata": {},
   "outputs": [],
   "source": [
    "area_code_dirs = list(filter(lambda x: 'tar' not in x, glob.glob(os.path.join('../data_in','*'))))"
   ]
  },
  {
   "cell_type": "code",
   "execution_count": 55,
   "metadata": {},
   "outputs": [
    {
     "name": "stderr",
     "output_type": "stream",
     "text": "10%|▉         | 18/182 [00:00<00:00, 174.05it/s]../data_in/41135\n['../data_in/41135/201604.csv']\n100%|██████████| 182/182 [00:01<00:00, 181.27it/s]\n"
    }
   ],
   "source": [
    "import tqdm\n",
    "\n",
    "trade_type = 'apt-trade'\n",
    "for area_code_dir in area_code_dirs: #tqdm.tqdm(area_code_dirs): \n",
    "    area_code = area_code_dir.split('/')[-1]\n",
    "    print(area_code_dir)\n",
    "    filelist = glob.glob(os.path.join(area_code_dir, '*.csv'))\n",
    "    frames = []\n",
    "    print(filelist[:1])\n",
    "    for filepath in tqdm.tqdm(filelist):\n",
    "        frame = pd.read_csv(filepath, usecols=COLS[trade_type])\n",
    "        frames.append(frame)\n",
    "    df = pd.concat(frames, axis=0)\n",
    "    df = preprocessing(df)"
   ]
  },
  {
   "cell_type": "code",
   "execution_count": 56,
   "metadata": {},
   "outputs": [
    {
     "data": {
      "text/plain": "Index(['transaction_amount', 'year_of_construction', 'transaction_year',\n       'legal_dong', 'apt_name', 'transaction_month', 'dedicated_area',\n       'floor', 'si', 'gu', 'sigungu', 'transaction_date', 'description',\n       'message'],\n      dtype='object')"
     },
     "execution_count": 56,
     "metadata": {},
     "output_type": "execute_result"
    }
   ],
   "source": [
    "df.columns"
   ]
  },
  {
   "cell_type": "code",
   "execution_count": 58,
   "metadata": {},
   "outputs": [],
   "source": [
    "from elasticsearch import Elasticsearch,JSONSerializer, helpers\n",
    "\n",
    "response = helpers.bulk(es, df.to_dict('record'), index='apt-trade') "
   ]
  },
  {
   "cell_type": "code",
   "execution_count": 59,
   "metadata": {},
   "outputs": [
    {
     "data": {
      "text/plain": "{'took': 7148,\n 'timed_out': False,\n '_shards': {'total': 1, 'successful': 1, 'skipped': 0, 'failed': 0},\n 'hits': {'total': {'value': 10000, 'relation': 'gte'},\n  'max_score': 1.0,\n  'hits': [{'_index': 'apt-trade',\n    '_type': '_doc',\n    '_id': 'WONDv3gBsTK-DR3xqJ9d',\n    '_score': 1.0,\n    '_source': {'transaction_amount': 52500.0,\n     'year_of_construction': 1993,\n     'transaction_year': 2016,\n     'legal_dong': '분당동',\n     'apt_name': '샛별마을(라이프)',\n     'transaction_month': 4,\n     'dedicated_area': 84.99,\n     'floor': 18,\n     'si': '경기도',\n     'gu': '성남시 분당구',\n     'sigungu': '경기도 성남시 분당구',\n     'transaction_date': '2016-04-01T00:00:00',\n     'description': '경기도 성남시 분당구 분당동 샛별마을 라이프',\n     'message': '샛별마을 라이프'}},\n   {'_index': 'apt-trade',\n    '_type': '_doc',\n    '_id': 'WeNDv3gBsTK-DR3xqJ9d',\n    '_score': 1.0,\n    '_source': {'transaction_amount': 46000.0,\n     'year_of_construction': 1993,\n     'transaction_year': 2016,\n     'legal_dong': '분당동',\n     'apt_name': '장안타운(건영)',\n     'transaction_month': 4,\n     'dedicated_area': 85.0,\n     'floor': 1,\n     'si': '경기도',\n     'gu': '성남시 분당구',\n     'sigungu': '경기도 성남시 분당구',\n     'transaction_date': '2016-04-06T00:00:00',\n     'description': '경기도 성남시 분당구 분당동 장안타운 건영',\n     'message': '장안타운 건영'}},\n   {'_index': 'apt-trade',\n    '_type': '_doc',\n    '_id': 'WuNDv3gBsTK-DR3xqJ9d',\n    '_score': 1.0,\n    '_source': {'transaction_amount': 40500.0,\n     'year_of_construction': 1993,\n     'transaction_year': 2016,\n     'legal_dong': '분당동',\n     'apt_name': '장안타운(건영)',\n     'transaction_month': 4,\n     'dedicated_area': 70.68,\n     'floor': 7,\n     'si': '경기도',\n     'gu': '성남시 분당구',\n     'sigungu': '경기도 성남시 분당구',\n     'transaction_date': '2016-04-06T00:00:00',\n     'description': '경기도 성남시 분당구 분당동 장안타운 건영',\n     'message': '장안타운 건영'}},\n   {'_index': 'apt-trade',\n    '_type': '_doc',\n    '_id': 'W-NDv3gBsTK-DR3xqJ9d',\n    '_score': 1.0,\n    '_source': {'transaction_amount': 42000.0,\n     'year_of_construction': 1992,\n     'transaction_year': 2016,\n     'legal_dong': '분당동',\n     'apt_name': '샛별마을(동성)',\n     'transaction_month': 4,\n     'dedicated_area': 69.39,\n     'floor': 4,\n     'si': '경기도',\n     'gu': '성남시 분당구',\n     'sigungu': '경기도 성남시 분당구',\n     'transaction_date': '2016-04-07T00:00:00',\n     'description': '경기도 성남시 분당구 분당동 샛별마을 동성',\n     'message': '샛별마을 동성'}},\n   {'_index': 'apt-trade',\n    '_type': '_doc',\n    '_id': 'XONDv3gBsTK-DR3xqJ9d',\n    '_score': 1.0,\n    '_source': {'transaction_amount': 35900.0,\n     'year_of_construction': 1992,\n     'transaction_year': 2016,\n     'legal_dong': '분당동',\n     'apt_name': '샛별마을(삼부)',\n     'transaction_month': 4,\n     'dedicated_area': 59.82,\n     'floor': 1,\n     'si': '경기도',\n     'gu': '성남시 분당구',\n     'sigungu': '경기도 성남시 분당구',\n     'transaction_date': '2016-04-09T00:00:00',\n     'description': '경기도 성남시 분당구 분당동 샛별마을 삼부',\n     'message': '샛별마을 삼부'}},\n   {'_index': 'apt-trade',\n    '_type': '_doc',\n    '_id': 'XeNDv3gBsTK-DR3xqJ9d',\n    '_score': 1.0,\n    '_source': {'transaction_amount': 70000.0,\n     'year_of_construction': 1994,\n     'transaction_year': 2016,\n     'legal_dong': '분당동',\n     'apt_name': '샛별마을(우방)',\n     'transaction_month': 4,\n     'dedicated_area': 133.86,\n     'floor': 12,\n     'si': '경기도',\n     'gu': '성남시 분당구',\n     'sigungu': '경기도 성남시 분당구',\n     'transaction_date': '2016-04-13T00:00:00',\n     'description': '경기도 성남시 분당구 분당동 샛별마을 우방',\n     'message': '샛별마을 우방'}},\n   {'_index': 'apt-trade',\n    '_type': '_doc',\n    '_id': 'XuNDv3gBsTK-DR3xqJ9d',\n    '_score': 1.0,\n    '_source': {'transaction_amount': 66500.0,\n     'year_of_construction': 1993,\n     'transaction_year': 2016,\n     'legal_dong': '분당동',\n     'apt_name': '샛별마을(라이프)',\n     'transaction_month': 4,\n     'dedicated_area': 126.42,\n     'floor': 16,\n     'si': '경기도',\n     'gu': '성남시 분당구',\n     'sigungu': '경기도 성남시 분당구',\n     'transaction_date': '2016-04-13T00:00:00',\n     'description': '경기도 성남시 분당구 분당동 샛별마을 라이프',\n     'message': '샛별마을 라이프'}},\n   {'_index': 'apt-trade',\n    '_type': '_doc',\n    '_id': 'X-NDv3gBsTK-DR3xqJ9e',\n    '_score': 1.0,\n    '_source': {'transaction_amount': 39800.0,\n     'year_of_construction': 1994,\n     'transaction_year': 2016,\n     'legal_dong': '분당동',\n     'apt_name': '샛별마을(우방)',\n     'transaction_month': 4,\n     'dedicated_area': 57.28,\n     'floor': 10,\n     'si': '경기도',\n     'gu': '성남시 분당구',\n     'sigungu': '경기도 성남시 분당구',\n     'transaction_date': '2016-04-16T00:00:00',\n     'description': '경기도 성남시 분당구 분당동 샛별마을 우방',\n     'message': '샛별마을 우방'}},\n   {'_index': 'apt-trade',\n    '_type': '_doc',\n    '_id': 'YONDv3gBsTK-DR3xqJ9e',\n    '_score': 1.0,\n    '_source': {'transaction_amount': 56500.0,\n     'year_of_construction': 1992,\n     'transaction_year': 2016,\n     'legal_dong': '분당동',\n     'apt_name': '샛별마을(동성)',\n     'transaction_month': 4,\n     'dedicated_area': 101.88,\n     'floor': 2,\n     'si': '경기도',\n     'gu': '성남시 분당구',\n     'sigungu': '경기도 성남시 분당구',\n     'transaction_date': '2016-04-17T00:00:00',\n     'description': '경기도 성남시 분당구 분당동 샛별마을 동성',\n     'message': '샛별마을 동성'}},\n   {'_index': 'apt-trade',\n    '_type': '_doc',\n    '_id': 'YeNDv3gBsTK-DR3xqJ9e',\n    '_score': 1.0,\n    '_source': {'transaction_amount': 38000.0,\n     'year_of_construction': 1992,\n     'transaction_year': 2016,\n     'legal_dong': '분당동',\n     'apt_name': '샛별마을(삼부)',\n     'transaction_month': 4,\n     'dedicated_area': 59.82,\n     'floor': 2,\n     'si': '경기도',\n     'gu': '성남시 분당구',\n     'sigungu': '경기도 성남시 분당구',\n     'transaction_date': '2016-04-19T00:00:00',\n     'description': '경기도 성남시 분당구 분당동 샛별마을 삼부',\n     'message': '샛별마을 삼부'}}]}}"
     },
     "execution_count": 59,
     "metadata": {},
     "output_type": "execute_result"
    }
   ],
   "source": [
    "es.search(index='apt-trade', body={\"query\":{\"match_all\":{}}})"
   ]
  },
  {
   "cell_type": "code",
   "execution_count": null,
   "metadata": {},
   "outputs": [],
   "source": []
  }
 ]
}